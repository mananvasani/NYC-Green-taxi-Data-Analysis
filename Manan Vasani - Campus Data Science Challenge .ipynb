{
 "cells": [
  {
   "cell_type": "markdown",
   "metadata": {},
   "source": [
    "# NYC Green Taxi Data analysis\n",
    "By:\n",
    "<br>\n",
    "Manan Vasani\n",
    "<br>\n",
    "Duke University"
   ]
  },
  {
   "cell_type": "markdown",
   "metadata": {},
   "source": [
    "Importing all necessary librabries that would be required for data analysis and visualization"
   ]
  },
  {
   "cell_type": "code",
   "execution_count": 1,
   "metadata": {
    "collapsed": true
   },
   "outputs": [],
   "source": [
    "import pandas as pd\n",
    "import numpy as np\n",
    "import matplotlib.pyplot as plt\n",
    "import datetime as dt\n",
    "from datetime import datetime\n",
    "import seaborn as sns\n",
    "from scipy import stats\n",
    "import time\n",
    "from dateutil.parser import parse\n",
    "%matplotlib inline"
   ]
  },
  {
   "cell_type": "code",
   "execution_count": 2,
   "metadata": {},
   "outputs": [],
   "source": [
    "from sklearn import preprocessing\n",
    "from sklearn.preprocessing import OneHotEncoder\n",
    "from sklearn import datasets, linear_model\n",
    "import scipy.stats as stats\n",
    "import statistics\n",
    "\n",
    "from sklearn.model_selection import train_test_split\n",
    "from sklearn.linear_model import LogisticRegression\n",
    "from sklearn.metrics import classification_report\n",
    "import sklearn.metrics as skm"
   ]
  },
  {
   "cell_type": "code",
   "execution_count": 3,
   "metadata": {
    "collapsed": true
   },
   "outputs": [],
   "source": [
    "data = pd.read_csv('green_tripdata_2015-09.csv')"
   ]
  },
  {
   "cell_type": "code",
   "execution_count": 4,
   "metadata": {
    "collapsed": true
   },
   "outputs": [],
   "source": [
    "df = pd.DataFrame(data)"
   ]
  },
  {
   "cell_type": "markdown",
   "metadata": {},
   "source": [
    "To visualize all the cloumns present in the data I need to change the display settings"
   ]
  },
  {
   "cell_type": "code",
   "execution_count": 5,
   "metadata": {
    "collapsed": true
   },
   "outputs": [],
   "source": [
    "pd.set_option(\"display.max_columns\",999)"
   ]
  },
  {
   "cell_type": "code",
   "execution_count": 6,
   "metadata": {},
   "outputs": [
    {
     "data": {
      "text/html": [
       "<div>\n",
       "<style>\n",
       "    .dataframe thead tr:only-child th {\n",
       "        text-align: right;\n",
       "    }\n",
       "\n",
       "    .dataframe thead th {\n",
       "        text-align: left;\n",
       "    }\n",
       "\n",
       "    .dataframe tbody tr th {\n",
       "        vertical-align: top;\n",
       "    }\n",
       "</style>\n",
       "<table border=\"1\" class=\"dataframe\">\n",
       "  <thead>\n",
       "    <tr style=\"text-align: right;\">\n",
       "      <th></th>\n",
       "      <th>VendorID</th>\n",
       "      <th>lpep_pickup_datetime</th>\n",
       "      <th>Lpep_dropoff_datetime</th>\n",
       "      <th>Store_and_fwd_flag</th>\n",
       "      <th>RateCodeID</th>\n",
       "      <th>Pickup_longitude</th>\n",
       "      <th>Pickup_latitude</th>\n",
       "      <th>Dropoff_longitude</th>\n",
       "      <th>Dropoff_latitude</th>\n",
       "      <th>Passenger_count</th>\n",
       "      <th>Trip_distance</th>\n",
       "      <th>Fare_amount</th>\n",
       "      <th>Extra</th>\n",
       "      <th>MTA_tax</th>\n",
       "      <th>Tip_amount</th>\n",
       "      <th>Tolls_amount</th>\n",
       "      <th>Ehail_fee</th>\n",
       "      <th>improvement_surcharge</th>\n",
       "      <th>Total_amount</th>\n",
       "      <th>Payment_type</th>\n",
       "      <th>Trip_type</th>\n",
       "    </tr>\n",
       "  </thead>\n",
       "  <tbody>\n",
       "    <tr>\n",
       "      <th>0</th>\n",
       "      <td>2</td>\n",
       "      <td>2015-09-01 00:02:34</td>\n",
       "      <td>2015-09-01 00:02:38</td>\n",
       "      <td>N</td>\n",
       "      <td>5</td>\n",
       "      <td>-73.979485</td>\n",
       "      <td>40.684956</td>\n",
       "      <td>-73.979431</td>\n",
       "      <td>40.685020</td>\n",
       "      <td>1</td>\n",
       "      <td>0.00</td>\n",
       "      <td>7.8</td>\n",
       "      <td>0.0</td>\n",
       "      <td>0.0</td>\n",
       "      <td>1.95</td>\n",
       "      <td>0.0</td>\n",
       "      <td>NaN</td>\n",
       "      <td>0.0</td>\n",
       "      <td>9.75</td>\n",
       "      <td>1</td>\n",
       "      <td>2.0</td>\n",
       "    </tr>\n",
       "    <tr>\n",
       "      <th>1</th>\n",
       "      <td>2</td>\n",
       "      <td>2015-09-01 00:04:20</td>\n",
       "      <td>2015-09-01 00:04:24</td>\n",
       "      <td>N</td>\n",
       "      <td>5</td>\n",
       "      <td>-74.010796</td>\n",
       "      <td>40.912216</td>\n",
       "      <td>-74.010780</td>\n",
       "      <td>40.912212</td>\n",
       "      <td>1</td>\n",
       "      <td>0.00</td>\n",
       "      <td>45.0</td>\n",
       "      <td>0.0</td>\n",
       "      <td>0.0</td>\n",
       "      <td>0.00</td>\n",
       "      <td>0.0</td>\n",
       "      <td>NaN</td>\n",
       "      <td>0.0</td>\n",
       "      <td>45.00</td>\n",
       "      <td>1</td>\n",
       "      <td>2.0</td>\n",
       "    </tr>\n",
       "    <tr>\n",
       "      <th>2</th>\n",
       "      <td>2</td>\n",
       "      <td>2015-09-01 00:01:50</td>\n",
       "      <td>2015-09-01 00:04:24</td>\n",
       "      <td>N</td>\n",
       "      <td>1</td>\n",
       "      <td>-73.921410</td>\n",
       "      <td>40.766708</td>\n",
       "      <td>-73.914413</td>\n",
       "      <td>40.764687</td>\n",
       "      <td>1</td>\n",
       "      <td>0.59</td>\n",
       "      <td>4.0</td>\n",
       "      <td>0.5</td>\n",
       "      <td>0.5</td>\n",
       "      <td>0.50</td>\n",
       "      <td>0.0</td>\n",
       "      <td>NaN</td>\n",
       "      <td>0.3</td>\n",
       "      <td>5.80</td>\n",
       "      <td>1</td>\n",
       "      <td>1.0</td>\n",
       "    </tr>\n",
       "    <tr>\n",
       "      <th>3</th>\n",
       "      <td>2</td>\n",
       "      <td>2015-09-01 00:02:36</td>\n",
       "      <td>2015-09-01 00:06:42</td>\n",
       "      <td>N</td>\n",
       "      <td>1</td>\n",
       "      <td>-73.921387</td>\n",
       "      <td>40.766678</td>\n",
       "      <td>-73.931427</td>\n",
       "      <td>40.771584</td>\n",
       "      <td>1</td>\n",
       "      <td>0.74</td>\n",
       "      <td>5.0</td>\n",
       "      <td>0.5</td>\n",
       "      <td>0.5</td>\n",
       "      <td>0.00</td>\n",
       "      <td>0.0</td>\n",
       "      <td>NaN</td>\n",
       "      <td>0.3</td>\n",
       "      <td>6.30</td>\n",
       "      <td>2</td>\n",
       "      <td>1.0</td>\n",
       "    </tr>\n",
       "    <tr>\n",
       "      <th>4</th>\n",
       "      <td>2</td>\n",
       "      <td>2015-09-01 00:00:14</td>\n",
       "      <td>2015-09-01 00:04:20</td>\n",
       "      <td>N</td>\n",
       "      <td>1</td>\n",
       "      <td>-73.955482</td>\n",
       "      <td>40.714046</td>\n",
       "      <td>-73.944412</td>\n",
       "      <td>40.714729</td>\n",
       "      <td>1</td>\n",
       "      <td>0.61</td>\n",
       "      <td>5.0</td>\n",
       "      <td>0.5</td>\n",
       "      <td>0.5</td>\n",
       "      <td>0.00</td>\n",
       "      <td>0.0</td>\n",
       "      <td>NaN</td>\n",
       "      <td>0.3</td>\n",
       "      <td>6.30</td>\n",
       "      <td>2</td>\n",
       "      <td>1.0</td>\n",
       "    </tr>\n",
       "  </tbody>\n",
       "</table>\n",
       "</div>"
      ],
      "text/plain": [
       "   VendorID lpep_pickup_datetime Lpep_dropoff_datetime Store_and_fwd_flag  \\\n",
       "0         2  2015-09-01 00:02:34   2015-09-01 00:02:38                  N   \n",
       "1         2  2015-09-01 00:04:20   2015-09-01 00:04:24                  N   \n",
       "2         2  2015-09-01 00:01:50   2015-09-01 00:04:24                  N   \n",
       "3         2  2015-09-01 00:02:36   2015-09-01 00:06:42                  N   \n",
       "4         2  2015-09-01 00:00:14   2015-09-01 00:04:20                  N   \n",
       "\n",
       "   RateCodeID  Pickup_longitude  Pickup_latitude  Dropoff_longitude  \\\n",
       "0           5        -73.979485        40.684956         -73.979431   \n",
       "1           5        -74.010796        40.912216         -74.010780   \n",
       "2           1        -73.921410        40.766708         -73.914413   \n",
       "3           1        -73.921387        40.766678         -73.931427   \n",
       "4           1        -73.955482        40.714046         -73.944412   \n",
       "\n",
       "   Dropoff_latitude  Passenger_count  Trip_distance  Fare_amount  Extra  \\\n",
       "0         40.685020                1           0.00          7.8    0.0   \n",
       "1         40.912212                1           0.00         45.0    0.0   \n",
       "2         40.764687                1           0.59          4.0    0.5   \n",
       "3         40.771584                1           0.74          5.0    0.5   \n",
       "4         40.714729                1           0.61          5.0    0.5   \n",
       "\n",
       "   MTA_tax  Tip_amount  Tolls_amount  Ehail_fee  improvement_surcharge  \\\n",
       "0      0.0        1.95           0.0        NaN                    0.0   \n",
       "1      0.0        0.00           0.0        NaN                    0.0   \n",
       "2      0.5        0.50           0.0        NaN                    0.3   \n",
       "3      0.5        0.00           0.0        NaN                    0.3   \n",
       "4      0.5        0.00           0.0        NaN                    0.3   \n",
       "\n",
       "   Total_amount  Payment_type  Trip_type   \n",
       "0          9.75             1         2.0  \n",
       "1         45.00             1         2.0  \n",
       "2          5.80             1         1.0  \n",
       "3          6.30             2         1.0  \n",
       "4          6.30             2         1.0  "
      ]
     },
     "execution_count": 6,
     "metadata": {},
     "output_type": "execute_result"
    }
   ],
   "source": [
    "df.head()"
   ]
  },
  {
   "cell_type": "code",
   "execution_count": 7,
   "metadata": {},
   "outputs": [
    {
     "name": "stdout",
     "output_type": "stream",
     "text": [
      "<class 'pandas.core.frame.DataFrame'>\n",
      "RangeIndex: 1494926 entries, 0 to 1494925\n",
      "Data columns (total 21 columns):\n",
      "VendorID                 1494926 non-null int64\n",
      "lpep_pickup_datetime     1494926 non-null object\n",
      "Lpep_dropoff_datetime    1494926 non-null object\n",
      "Store_and_fwd_flag       1494926 non-null object\n",
      "RateCodeID               1494926 non-null int64\n",
      "Pickup_longitude         1494926 non-null float64\n",
      "Pickup_latitude          1494926 non-null float64\n",
      "Dropoff_longitude        1494926 non-null float64\n",
      "Dropoff_latitude         1494926 non-null float64\n",
      "Passenger_count          1494926 non-null int64\n",
      "Trip_distance            1494926 non-null float64\n",
      "Fare_amount              1494926 non-null float64\n",
      "Extra                    1494926 non-null float64\n",
      "MTA_tax                  1494926 non-null float64\n",
      "Tip_amount               1494926 non-null float64\n",
      "Tolls_amount             1494926 non-null float64\n",
      "Ehail_fee                0 non-null float64\n",
      "improvement_surcharge    1494926 non-null float64\n",
      "Total_amount             1494926 non-null float64\n",
      "Payment_type             1494926 non-null int64\n",
      "Trip_type                1494922 non-null float64\n",
      "dtypes: float64(14), int64(4), object(3)\n",
      "memory usage: 239.5+ MB\n"
     ]
    }
   ],
   "source": [
    "df.info()"
   ]
  },
  {
   "cell_type": "code",
   "execution_count": 8,
   "metadata": {},
   "outputs": [
    {
     "data": {
      "text/plain": [
       "(1494926, 21)"
      ]
     },
     "execution_count": 8,
     "metadata": {},
     "output_type": "execute_result"
    }
   ],
   "source": [
    "df.shape"
   ]
  },
  {
   "cell_type": "markdown",
   "metadata": {},
   "source": [
    "## Question 1\n",
    "Question 1\n",
    "\n",
    "·         Programmatically download and load into your favorite analytical tool the trip data for September 2015.\n",
    "\n",
    "·         Report how many rows and columns of data you have loaded."
   ]
  },
  {
   "cell_type": "markdown",
   "metadata": {},
   "source": [
    "Number of Rows: 1494926 \n",
    "<br>\n",
    "Number of columns: 21"
   ]
  },
  {
   "cell_type": "markdown",
   "metadata": {},
   "source": [
    " Checking whether the dataset contains null value or not"
   ]
  },
  {
   "cell_type": "code",
   "execution_count": 9,
   "metadata": {
    "scrolled": false
   },
   "outputs": [
    {
     "data": {
      "text/plain": [
       "VendorID                       0\n",
       "lpep_pickup_datetime           0\n",
       "Lpep_dropoff_datetime          0\n",
       "Store_and_fwd_flag             0\n",
       "RateCodeID                     0\n",
       "Pickup_longitude               0\n",
       "Pickup_latitude                0\n",
       "Dropoff_longitude              0\n",
       "Dropoff_latitude               0\n",
       "Passenger_count                0\n",
       "Trip_distance                  0\n",
       "Fare_amount                    0\n",
       "Extra                          0\n",
       "MTA_tax                        0\n",
       "Tip_amount                     0\n",
       "Tolls_amount                   0\n",
       "Ehail_fee                1494926\n",
       "improvement_surcharge          0\n",
       "Total_amount                   0\n",
       "Payment_type                   0\n",
       "Trip_type                      4\n",
       "dtype: int64"
      ]
     },
     "execution_count": 9,
     "metadata": {},
     "output_type": "execute_result"
    }
   ],
   "source": [
    "df.isnull().sum()"
   ]
  },
  {
   "cell_type": "markdown",
   "metadata": {},
   "source": [
    "Dropping the column Ehail_fee as it is empty"
   ]
  },
  {
   "cell_type": "code",
   "execution_count": 10,
   "metadata": {
    "collapsed": true
   },
   "outputs": [],
   "source": [
    "df.drop('Ehail_fee',axis=1,inplace=True)"
   ]
  },
  {
   "cell_type": "markdown",
   "metadata": {},
   "source": [
    "# Question 2\n",
    "\n",
    "·Plot a histogram of the number of the trip distance (\"Trip Distance\").\n",
    "\n",
    "·Report any structure you find and any hypotheses you have about that structure."
   ]
  },
  {
   "cell_type": "code",
   "execution_count": 11,
   "metadata": {},
   "outputs": [
    {
     "data": {
      "image/png": "[encoded data removed]",
      "text/plain": [
       "<matplotlib.figure.Figure at 0x234715a5780>"
      ]
     },
     "metadata": {},
     "output_type": "display_data"
    }
   ],
   "source": [
    "fig,ax = plt.subplots(1,1,figsize = (9,4))\n",
    "plt.grid()\n",
    "sns.distplot(df['Trip_distance'],bins=100,kde=False)\n",
    "ax.set_xlabel('Trip Distance (miles)')\n",
    "ax.set_ylabel('Count')\n",
    "ax.set_yscale('log')\n",
    "ax.set_title('Histogram of Trip Distance')\n",
    "plt.savefig('Histogram of Trip Distance with outliers')"
   ]
  },
  {
   "cell_type": "markdown",
   "metadata": {},
   "source": [
    "We see that most trips are 0 to 100 miles. However there are outliers present in dataset as we see trips that are 600 miles in length. This might be due to some error in reading meter because logically a trip of more than 500 miles would eventually take one to Quebec,Canada if traveling north, Detroit if going east and Charlotte, NC if one plnas to drive south. "
   ]
  },
  {
   "cell_type": "markdown",
   "metadata": {},
   "source": [
    "Hence to nullify the effect of these outliers and get more accurate plot of trip duration I remove trip distance entries that lie beyond 3 standard deviations of the mean. To do so I calculate the z-score of each datapoint and eliminate outliers whose z-score for trip distance is more than 3. "
   ]
  },
  {
   "cell_type": "code",
   "execution_count": 12,
   "metadata": {
    "collapsed": true
   },
   "outputs": [],
   "source": [
    "df['z']=stats.zscore(df['Trip_distance'])"
   ]
  },
  {
   "cell_type": "code",
   "execution_count": 13,
   "metadata": {
    "collapsed": true
   },
   "outputs": [],
   "source": [
    "df2 = df[df['z']<=3]"
   ]
  },
  {
   "cell_type": "code",
   "execution_count": 14,
   "metadata": {},
   "outputs": [
    {
     "data": {
      "text/plain": [
       "2.7047646844515167"
      ]
     },
     "execution_count": 14,
     "metadata": {},
     "output_type": "execute_result"
    }
   ],
   "source": [
    "df2['Trip_distance'].mean()"
   ]
  },
  {
   "cell_type": "code",
   "execution_count": 15,
   "metadata": {},
   "outputs": [
    {
     "data": {
      "text/plain": [
       "1.92"
      ]
     },
     "execution_count": 15,
     "metadata": {},
     "output_type": "execute_result"
    }
   ],
   "source": [
    "df2['Trip_distance'].median()"
   ]
  },
  {
   "cell_type": "code",
   "execution_count": 16,
   "metadata": {},
   "outputs": [
    {
     "data": {
      "image/png": "[encoded data removed]",
      "text/plain": [
       "<matplotlib.figure.Figure at 0x2340e92d710>"
      ]
     },
     "metadata": {},
     "output_type": "display_data"
    }
   ],
   "source": [
    "fig,ax = plt.subplots(1,1,figsize = (9,4))\n",
    "plt.grid()\n",
    "sns.distplot(df2['Trip_distance'],bins=100,kde=False)\n",
    "ax.set_xlabel('Trip Distance (miles)')\n",
    "ax.set_ylabel('Count')\n",
    "ax.set_yscale('log')\n",
    "ax.set_title('Histogram of Trip Distance')\n",
    "plt.savefig('Histogram of Trip Distance without outliers')"
   ]
  },
  {
   "cell_type": "markdown",
   "metadata": {},
   "source": [
    "The data now makes sense as maximum length of a trip is slightly more than 12 miles. We see that most trips are less than 5 miles with a mean distance of 2.7 and median of 1.92 miles."
   ]
  },
  {
   "cell_type": "markdown",
   "metadata": {},
   "source": [
    "# Question 3\n",
    "•Report mean and median trip distance grouped by hour of day.\n",
    "<br>\n",
    "<br>\n",
    "•We'd like to get a rough sense of identifying trips that originate or terminate at one of the NYC area airports. Can you provide a count of how many transactions fit this criteria, the average fare, and any other interesting  characteristics of these trips.\n"
   ]
  },
  {
   "cell_type": "markdown",
   "metadata": {},
   "source": [
    "### Solution\n",
    "Reading the data dictionary tells us that trips with RatecodeID of 2(relating to JFK) and 3(Relating to Newark) are trip that are either to or from these airports.\n",
    "<br>\n",
    "Hence I create a new variable within the dataframe called 'Airport_trip' which would be 1 if the trip is originating/terminating at airports else 0."
   ]
  },
  {
   "cell_type": "markdown",
   "metadata": {},
   "source": [
    "I also create variables such as Trip speed, trip duration, day of the week,etc that would help to better analyse and visualize the data."
   ]
  },
  {
   "cell_type": "code",
   "execution_count": 17,
   "metadata": {
    "collapsed": true
   },
   "outputs": [],
   "source": [
    "df['Pickup_dt'] = df.lpep_pickup_datetime.apply(lambda x:dt.datetime.strptime(x,\"%Y-%m-%d %H:%M:%S\"))\n",
    "df['Dropoff_dt'] = df.Lpep_dropoff_datetime.apply(lambda x:dt.datetime.strptime(x,\"%Y-%m-%d %H:%M:%S\"))"
   ]
  },
  {
   "cell_type": "code",
   "execution_count": 18,
   "metadata": {
    "collapsed": true
   },
   "outputs": [],
   "source": [
    "df['Pickup_hour'] = df.Pickup_dt.apply(lambda x:x.hour)"
   ]
  },
  {
   "cell_type": "code",
   "execution_count": 19,
   "metadata": {
    "collapsed": true
   },
   "outputs": [],
   "source": [
    "df['Pickup_day'] = df['Pickup_dt'].apply(lambda x : x.day)"
   ]
  },
  {
   "cell_type": "code",
   "execution_count": 20,
   "metadata": {
    "collapsed": true
   },
   "outputs": [],
   "source": [
    "df['Tip_percent'] = df['Tip_amount']/df['Total_amount'] *100"
   ]
  },
  {
   "cell_type": "code",
   "execution_count": 21,
   "metadata": {
    "collapsed": true
   },
   "outputs": [],
   "source": [
    "days={1:'Tue',2:'Wed',3:'Thurs',4:'Fri',5:'Sat',6:'Sun',7:'Mon',\n",
    "      8:'Tue',9:'Wed',10:'Thurs',11:'Fri',12:'Sat',13:'Sun',14:'Mon',\n",
    "      15:'Tue',16:'Wed',17:'Thurs',18:'Fri',19:'Sat',20:'Sun',21:'Mon',\n",
    "      22:'Tue',23:'Wed',24:'Thurs',25:'Fri',26:'Sat',27:'Sun',28:'Mon',\n",
    "      29:'Tue',30:'Wed'}"
   ]
  },
  {
   "cell_type": "code",
   "execution_count": 22,
   "metadata": {
    "collapsed": true
   },
   "outputs": [],
   "source": [
    "df['Pickup_day_name']=df['Pickup_day'].map(days)"
   ]
  },
  {
   "cell_type": "code",
   "execution_count": 23,
   "metadata": {
    "collapsed": true
   },
   "outputs": [],
   "source": [
    "ty ={'Mon':'Weekday','Tue':'Weekday','Wed':'Weekday','Thurs':'Weekday','Fri':'Weekday','Sat':'Weekend','Sun':'Weekend'}"
   ]
  },
  {
   "cell_type": "code",
   "execution_count": 24,
   "metadata": {
    "collapsed": true
   },
   "outputs": [],
   "source": [
    "df['Pick_Day_type']=df['Pickup_day_name'].map(ty)"
   ]
  },
  {
   "cell_type": "code",
   "execution_count": 25,
   "metadata": {
    "collapsed": true
   },
   "outputs": [],
   "source": [
    "df['Airport_trips'] = df['RateCodeID'].apply(lambda x : 1 if( (x==2)|(x==3)) else 0)"
   ]
  },
  {
   "cell_type": "code",
   "execution_count": 26,
   "metadata": {
    "collapsed": true
   },
   "outputs": [],
   "source": [
    "df['Trip_duration'] = df['Dropoff_dt'] - df['Pickup_dt']"
   ]
  },
  {
   "cell_type": "code",
   "execution_count": 27,
   "metadata": {
    "collapsed": true
   },
   "outputs": [],
   "source": [
    "df['Trip_duration']= df['Trip_duration'].apply(lambda x : x.total_seconds()/3600)                                      "
   ]
  },
  {
   "cell_type": "code",
   "execution_count": 28,
   "metadata": {
    "collapsed": true
   },
   "outputs": [],
   "source": [
    "df['Speed'] = df['Trip_distance']/df['Trip_duration']"
   ]
  },
  {
   "cell_type": "markdown",
   "metadata": {},
   "source": [
    "Trip durations of less than 120 seconds seems hard to believe. Hence I drop the corresponding values."
   ]
  },
  {
   "cell_type": "code",
   "execution_count": 29,
   "metadata": {
    "collapsed": true
   },
   "outputs": [],
   "source": [
    "#Assuming a trip has to last more than 2 mins\n",
    "i = df[df['Trip_duration']<=0.034].index\n",
    "df.drop(i,inplace=True)"
   ]
  },
  {
   "cell_type": "markdown",
   "metadata": {},
   "source": [
    "Since the speed linit in NYC is 50 mph, we drop records where speed is less than 1mph and greater than 70mph"
   ]
  },
  {
   "cell_type": "code",
   "execution_count": 30,
   "metadata": {
    "collapsed": true
   },
   "outputs": [],
   "source": [
    "j = df[(df['Speed']<1)|(df['Speed']>70)].index\n",
    "df.drop(j,inplace=True)"
   ]
  },
  {
   "cell_type": "markdown",
   "metadata": {},
   "source": [
    "Creating a new dataframe that has data of only airport related trips"
   ]
  },
  {
   "cell_type": "code",
   "execution_count": 31,
   "metadata": {
    "collapsed": true
   },
   "outputs": [],
   "source": [
    "df_airport_trips = df[(df['RateCodeID']==2) | (df['RateCodeID']==3)]"
   ]
  },
  {
   "cell_type": "code",
   "execution_count": 32,
   "metadata": {},
   "outputs": [
    {
     "data": {
      "text/plain": [
       "0    1429224\n",
       "1       3249\n",
       "Name: Airport_trips, dtype: int64"
      ]
     },
     "execution_count": 32,
     "metadata": {},
     "output_type": "execute_result"
    }
   ],
   "source": [
    "df['Airport_trips'].value_counts()"
   ]
  },
  {
   "cell_type": "markdown",
   "metadata": {},
   "source": [
    "##### 5552 trips that originate or terminate at one of NYC airports"
   ]
  },
  {
   "cell_type": "markdown",
   "metadata": {},
   "source": [
    "Creating a pivot table to store mean and median values of trip distance according to hour of day."
   ]
  },
  {
   "cell_type": "code",
   "execution_count": 33,
   "metadata": {
    "collapsed": true
   },
   "outputs": [],
   "source": [
    "table1 = df.pivot_table(index='Pickup_hour', values='Trip_distance',aggfunc=('mean','median')).reset_index()"
   ]
  },
  {
   "cell_type": "code",
   "execution_count": 34,
   "metadata": {
    "scrolled": true
   },
   "outputs": [
    {
     "data": {
      "image/png": "[encoded data removed]",
      "text/plain": [
       "<matplotlib.figure.Figure at 0x2340b7b5a90>"
      ]
     },
     "metadata": {},
     "output_type": "display_data"
    }
   ],
   "source": [
    "fig,ax = plt.subplots(1,1,figsize=(6,3),dpi=100)\n",
    "table1[['mean','median']].plot(ax=ax)\n",
    "ax.set_ylabel('Miles')\n",
    "ax.set_xlabel('Hour of Day')\n",
    "ax.set_title('Mean and Median distance vs Hour of day')\n",
    "plt.savefig('Mean and Median distance vs Hour of day')"
   ]
  },
  {
   "cell_type": "code",
   "execution_count": 35,
   "metadata": {},
   "outputs": [
    {
     "data": {
      "text/html": [
       "<div>\n",
       "<style>\n",
       "    .dataframe thead tr:only-child th {\n",
       "        text-align: right;\n",
       "    }\n",
       "\n",
       "    .dataframe thead th {\n",
       "        text-align: left;\n",
       "    }\n",
       "\n",
       "    .dataframe tbody tr th {\n",
       "        vertical-align: top;\n",
       "    }\n",
       "</style>\n",
       "<table border=\"1\" class=\"dataframe\">\n",
       "  <thead>\n",
       "    <tr style=\"text-align: right;\">\n",
       "      <th></th>\n",
       "      <th>Pickup_hour</th>\n",
       "      <th>mean</th>\n",
       "      <th>median</th>\n",
       "    </tr>\n",
       "  </thead>\n",
       "  <tbody>\n",
       "    <tr>\n",
       "      <th>0</th>\n",
       "      <td>0</td>\n",
       "      <td>3.206316</td>\n",
       "      <td>2.29</td>\n",
       "    </tr>\n",
       "    <tr>\n",
       "      <th>1</th>\n",
       "      <td>1</td>\n",
       "      <td>3.117672</td>\n",
       "      <td>2.21</td>\n",
       "    </tr>\n",
       "    <tr>\n",
       "      <th>2</th>\n",
       "      <td>2</td>\n",
       "      <td>3.159469</td>\n",
       "      <td>2.24</td>\n",
       "    </tr>\n",
       "    <tr>\n",
       "      <th>3</th>\n",
       "      <td>3</td>\n",
       "      <td>3.315467</td>\n",
       "      <td>2.33</td>\n",
       "    </tr>\n",
       "    <tr>\n",
       "      <th>4</th>\n",
       "      <td>4</td>\n",
       "      <td>3.673129</td>\n",
       "      <td>2.50</td>\n",
       "    </tr>\n",
       "    <tr>\n",
       "      <th>5</th>\n",
       "      <td>5</td>\n",
       "      <td>4.324501</td>\n",
       "      <td>3.10</td>\n",
       "    </tr>\n",
       "    <tr>\n",
       "      <th>6</th>\n",
       "      <td>6</td>\n",
       "      <td>4.241436</td>\n",
       "      <td>3.01</td>\n",
       "    </tr>\n",
       "    <tr>\n",
       "      <th>7</th>\n",
       "      <td>7</td>\n",
       "      <td>3.406558</td>\n",
       "      <td>2.29</td>\n",
       "    </tr>\n",
       "    <tr>\n",
       "      <th>8</th>\n",
       "      <td>8</td>\n",
       "      <td>3.150904</td>\n",
       "      <td>2.07</td>\n",
       "    </tr>\n",
       "    <tr>\n",
       "      <th>9</th>\n",
       "      <td>9</td>\n",
       "      <td>3.114036</td>\n",
       "      <td>2.07</td>\n",
       "    </tr>\n",
       "    <tr>\n",
       "      <th>10</th>\n",
       "      <td>10</td>\n",
       "      <td>3.057605</td>\n",
       "      <td>2.02</td>\n",
       "    </tr>\n",
       "    <tr>\n",
       "      <th>11</th>\n",
       "      <td>11</td>\n",
       "      <td>3.020489</td>\n",
       "      <td>1.96</td>\n",
       "    </tr>\n",
       "    <tr>\n",
       "      <th>12</th>\n",
       "      <td>12</td>\n",
       "      <td>3.008908</td>\n",
       "      <td>1.97</td>\n",
       "    </tr>\n",
       "    <tr>\n",
       "      <th>13</th>\n",
       "      <td>13</td>\n",
       "      <td>2.981366</td>\n",
       "      <td>1.92</td>\n",
       "    </tr>\n",
       "    <tr>\n",
       "      <th>14</th>\n",
       "      <td>14</td>\n",
       "      <td>2.967205</td>\n",
       "      <td>1.90</td>\n",
       "    </tr>\n",
       "    <tr>\n",
       "      <th>15</th>\n",
       "      <td>15</td>\n",
       "      <td>2.952938</td>\n",
       "      <td>1.90</td>\n",
       "    </tr>\n",
       "    <tr>\n",
       "      <th>16</th>\n",
       "      <td>16</td>\n",
       "      <td>2.868579</td>\n",
       "      <td>1.87</td>\n",
       "    </tr>\n",
       "    <tr>\n",
       "      <th>17</th>\n",
       "      <td>17</td>\n",
       "      <td>2.755120</td>\n",
       "      <td>1.83</td>\n",
       "    </tr>\n",
       "    <tr>\n",
       "      <th>18</th>\n",
       "      <td>18</td>\n",
       "      <td>2.732972</td>\n",
       "      <td>1.85</td>\n",
       "    </tr>\n",
       "    <tr>\n",
       "      <th>19</th>\n",
       "      <td>19</td>\n",
       "      <td>2.789076</td>\n",
       "      <td>1.90</td>\n",
       "    </tr>\n",
       "    <tr>\n",
       "      <th>20</th>\n",
       "      <td>20</td>\n",
       "      <td>2.854584</td>\n",
       "      <td>1.97</td>\n",
       "    </tr>\n",
       "    <tr>\n",
       "      <th>21</th>\n",
       "      <td>21</td>\n",
       "      <td>3.082612</td>\n",
       "      <td>2.10</td>\n",
       "    </tr>\n",
       "    <tr>\n",
       "      <th>22</th>\n",
       "      <td>22</td>\n",
       "      <td>3.276308</td>\n",
       "      <td>2.28</td>\n",
       "    </tr>\n",
       "    <tr>\n",
       "      <th>23</th>\n",
       "      <td>23</td>\n",
       "      <td>3.286039</td>\n",
       "      <td>2.30</td>\n",
       "    </tr>\n",
       "  </tbody>\n",
       "</table>\n",
       "</div>"
      ],
      "text/plain": [
       "    Pickup_hour      mean  median\n",
       "0             0  3.206316    2.29\n",
       "1             1  3.117672    2.21\n",
       "2             2  3.159469    2.24\n",
       "3             3  3.315467    2.33\n",
       "4             4  3.673129    2.50\n",
       "5             5  4.324501    3.10\n",
       "6             6  4.241436    3.01\n",
       "7             7  3.406558    2.29\n",
       "8             8  3.150904    2.07\n",
       "9             9  3.114036    2.07\n",
       "10           10  3.057605    2.02\n",
       "11           11  3.020489    1.96\n",
       "12           12  3.008908    1.97\n",
       "13           13  2.981366    1.92\n",
       "14           14  2.967205    1.90\n",
       "15           15  2.952938    1.90\n",
       "16           16  2.868579    1.87\n",
       "17           17  2.755120    1.83\n",
       "18           18  2.732972    1.85\n",
       "19           19  2.789076    1.90\n",
       "20           20  2.854584    1.97\n",
       "21           21  3.082612    2.10\n",
       "22           22  3.276308    2.28\n",
       "23           23  3.286039    2.30"
      ]
     },
     "execution_count": 35,
     "metadata": {},
     "output_type": "execute_result"
    }
   ],
   "source": [
    "table1"
   ]
  },
  {
   "cell_type": "code",
   "execution_count": 36,
   "metadata": {},
   "outputs": [
    {
     "data": {
      "image/png": "[encoded data removed]",
      "text/plain": [
       "<matplotlib.figure.Figure at 0x2340ed7d6d8>"
      ]
     },
     "metadata": {},
     "output_type": "display_data"
    }
   ],
   "source": [
    "fig,ax = plt.subplots(1,1,figsize=(6,3),dpi=100)\n",
    "sns.countplot(x='Pickup_hour',data=df_airport_trips,hue='RateCodeID')\n",
    "plt.title('Number of Airport trips vs Time of Day')\n",
    "plt.savefig('Number of Airport trips vs Time of Day')"
   ]
  },
  {
   "cell_type": "code",
   "execution_count": 37,
   "metadata": {
    "collapsed": true
   },
   "outputs": [],
   "source": [
    "table2=df_airport_trips.pivot_table(index=['RateCodeID','Pickup_hour'],values=['Trip_distance','Tip_amount','Total_amount','Tip_percent']).reset_index()"
   ]
  },
  {
   "cell_type": "code",
   "execution_count": 38,
   "metadata": {},
   "outputs": [
    {
     "data": {
      "image/png": "[encoded data removed]",
      "text/plain": [
       "<matplotlib.figure.Figure at 0x2340eb30240>"
      ]
     },
     "metadata": {},
     "output_type": "display_data"
    }
   ],
   "source": [
    "fig = plt.figure(figsize=(6,3),dpi=100)\n",
    "sns.pointplot(x='Pickup_hour',y='Trip_distance',data=table2,hue='RateCodeID')\n",
    "plt.title('Average trip distance of airport related trips vs Hour of Day')\n",
    "plt.savefig('Average trip distance of airport related trips vs Hour of Day')"
   ]
  },
  {
   "cell_type": "code",
   "execution_count": null,
   "metadata": {},
   "outputs": [],
   "source": []
  },
  {
   "cell_type": "code",
   "execution_count": null,
   "metadata": {
    "collapsed": true
   },
   "outputs": [],
   "source": []
  },
  {
   "cell_type": "code",
   "execution_count": null,
   "metadata": {},
   "outputs": [],
   "source": []
  },
  {
   "cell_type": "code",
   "execution_count": 39,
   "metadata": {
    "collapsed": true
   },
   "outputs": [],
   "source": [
    "grp_airport = df_airport_trips.set_index(['Pick_Day_type','Pickup_day_name','Pickup_hour'])"
   ]
  },
  {
   "cell_type": "markdown",
   "metadata": {},
   "source": [
    "Creating a dataframe where data is grouped according to weekdays and weekends"
   ]
  },
  {
   "cell_type": "code",
   "execution_count": 40,
   "metadata": {
    "collapsed": true
   },
   "outputs": [],
   "source": [
    "grp_airport_weekday = grp_airport.xs('Weekday').reset_index()"
   ]
  },
  {
   "cell_type": "code",
   "execution_count": 41,
   "metadata": {
    "collapsed": true
   },
   "outputs": [],
   "source": [
    "grp_airport_weekend = grp_airport.xs('Weekend').reset_index()"
   ]
  },
  {
   "cell_type": "code",
   "execution_count": null,
   "metadata": {},
   "outputs": [],
   "source": []
  },
  {
   "cell_type": "code",
   "execution_count": 42,
   "metadata": {},
   "outputs": [
    {
     "data": {
      "image/png": "[encoded data removed]",
      "text/plain": [
       "<matplotlib.figure.Figure at 0x2340006aa20>"
      ]
     },
     "metadata": {},
     "output_type": "display_data"
    }
   ],
   "source": [
    "fig,ax = plt.subplots(1,2,figsize = (15,4))\n",
    "plt.subplot(1,2,1)\n",
    "sns.barplot(x='Pickup_hour',y='Fare_amount',data=grp_airport_weekday,ci=None,hue='RateCodeID')\n",
    "ax[0].set_xlabel('Trip Distance (miles)')\n",
    "ax[0].set_ylabel('Count')\n",
    "ax[0].set_yscale('log')\n",
    "ax[0].set_title('Weekday airport trips')\n",
    "plt.title('Weekday airport trips')\n",
    "\n",
    "plt.subplot(1,2,2)\n",
    "sns.barplot(x='Pickup_hour',y='Fare_amount',data=grp_airport_weekend,ci=None,hue='RateCodeID')\n",
    "ax[1].set_xlabel('Trip Distance (miles)')\n",
    "ax[1].set_ylabel('Count')\n",
    "ax[1].set_yscale('log')\n",
    "ax[1].set_title('Weekend aiport trips')\n",
    "plt.title('Weekend airport trips')\n",
    "plt.savefig('Weekend airport trips fare')"
   ]
  },
  {
   "cell_type": "code",
   "execution_count": 43,
   "metadata": {},
   "outputs": [
    {
     "data": {
      "text/plain": [
       "51.74009996155325"
      ]
     },
     "execution_count": 43,
     "metadata": {},
     "output_type": "execute_result"
    }
   ],
   "source": [
    "df_airport_trips['Fare_amount'][df_airport_trips['RateCodeID']==2].mean()"
   ]
  },
  {
   "cell_type": "code",
   "execution_count": 44,
   "metadata": {},
   "outputs": [
    {
     "data": {
      "text/plain": [
       "70.44135802469135"
      ]
     },
     "execution_count": 44,
     "metadata": {},
     "output_type": "execute_result"
    }
   ],
   "source": [
    "df_airport_trips['Fare_amount'][df_airport_trips['RateCodeID']==3].mean()"
   ]
  },
  {
   "cell_type": "code",
   "execution_count": null,
   "metadata": {},
   "outputs": [],
   "source": []
  },
  {
   "cell_type": "code",
   "execution_count": 45,
   "metadata": {},
   "outputs": [
    {
     "data": {
      "image/png": "[encoded data removed]",
      "text/plain": [
       "<matplotlib.figure.Figure at 0x23400298588>"
      ]
     },
     "metadata": {},
     "output_type": "display_data"
    }
   ],
   "source": [
    "fig,ax = plt.subplots(1,2,figsize = (15,4))\n",
    "plt.subplot(1,2,1)\n",
    "sns.barplot(x='Pickup_hour',y='Trip_distance',data=grp_airport_weekday,ci=None,hue='RateCodeID')\n",
    "ax[0].set_xlabel('Trip Distance (miles)')\n",
    "ax[0].set_ylabel('Count')\n",
    "ax[0].set_yscale('log')\n",
    "ax[0].set_title('Weekday airport trips')\n",
    "plt.title('Weekday airport trips trip dist')\n",
    "\n",
    "plt.subplot(1,2,2)\n",
    "sns.barplot(x='Pickup_hour',y='Trip_distance',data=grp_airport_weekend,ci=None,hue='RateCodeID')\n",
    "ax[1].set_xlabel('Trip Distance (miles)')\n",
    "ax[1].set_ylabel('Count')\n",
    "ax[1].set_yscale('log')\n",
    "ax[1].set_title('Weekend aiport trips')\n",
    "plt.title('Weekend airport trips trip dist')\n",
    "plt.savefig('day wise airport trip dist hue')"
   ]
  },
  {
   "cell_type": "markdown",
   "metadata": {},
   "source": [
    "# Question 4\n",
    "•Build a derived variable for tip as a percentage of the total fare.\n",
    "<br>\n",
    "<br>\n",
    "•Build a predictive model for tip as a percentage of the total fare. Use as much of the data as you like (or all of it). We will validate a sample."
   ]
  },
  {
   "cell_type": "markdown",
   "metadata": {},
   "source": [
    "Before diving deep into what factors affect tip percent lets just have  a look at the tipping behaviour during week \n",
    "<br>\n",
    "days and at weekend"
   ]
  },
  {
   "cell_type": "code",
   "execution_count": 46,
   "metadata": {
    "collapsed": true
   },
   "outputs": [],
   "source": [
    "grp2 = df.set_index(['Pick_Day_type','Pickup_day_name','Pickup_hour'])"
   ]
  },
  {
   "cell_type": "code",
   "execution_count": 47,
   "metadata": {
    "collapsed": true
   },
   "outputs": [],
   "source": [
    "weekday = grp2.xs('Weekday').reset_index()"
   ]
  },
  {
   "cell_type": "code",
   "execution_count": 48,
   "metadata": {
    "collapsed": true
   },
   "outputs": [],
   "source": [
    "weekend = grp2.xs('Weekend').reset_index()"
   ]
  },
  {
   "cell_type": "code",
   "execution_count": 49,
   "metadata": {},
   "outputs": [
    {
     "data": {
      "image/png": "[encoded data removed]",
      "text/plain": [
       "<matplotlib.figure.Figure at 0x2340044b8d0>"
      ]
     },
     "metadata": {},
     "output_type": "display_data"
    }
   ],
   "source": [
    "fig,ax = plt.subplots(1,2,figsize = (15,4))\n",
    "plt.subplot(1,2,1)\n",
    "sns.barplot(x='Pickup_hour',y='Tip_percent',data=weekday)\n",
    "ax[0].set_xlabel('Trip Distance (miles)')\n",
    "ax[0].set_ylabel('Count')\n",
    "ax[0].set_yscale('log')\n",
    "ax[0].set_title('Weekday')\n",
    "plt.title('All Weekday trips')\n",
    "\n",
    "plt.subplot(1,2,2)\n",
    "sns.barplot(x='Pickup_hour',y='Tip_percent',data=weekend)\n",
    "ax[1].set_xlabel('Trip Distance (miles)')\n",
    "ax[1].set_ylabel('Count')\n",
    "ax[1].set_yscale('log')\n",
    "ax[1].set_title('Weekend')\n",
    "plt.title('All weekend trips')\n",
    "plt.savefig('All Weekend trip tip')\n"
   ]
  },
  {
   "cell_type": "markdown",
   "metadata": {},
   "source": [
    "Before Cleaning our data and building our model drop the Tip percent column created for EDA. It will be again\n",
    "<br>\n",
    "created after entire dataset is cleaned."
   ]
  },
  {
   "cell_type": "code",
   "execution_count": 50,
   "metadata": {
    "collapsed": true
   },
   "outputs": [],
   "source": [
    "df.drop('Tip_percent',axis=1,inplace=True)"
   ]
  },
  {
   "cell_type": "markdown",
   "metadata": {},
   "source": [
    "## Data Cleaning"
   ]
  },
  {
   "cell_type": "markdown",
   "metadata": {},
   "source": [
    "Checking for any null values and replacing those with its median/mean values"
   ]
  },
  {
   "cell_type": "code",
   "execution_count": 51,
   "metadata": {},
   "outputs": [
    {
     "data": {
      "text/plain": [
       "VendorID                 0\n",
       "lpep_pickup_datetime     0\n",
       "Lpep_dropoff_datetime    0\n",
       "Store_and_fwd_flag       0\n",
       "RateCodeID               0\n",
       "Pickup_longitude         0\n",
       "Pickup_latitude          0\n",
       "Dropoff_longitude        0\n",
       "Dropoff_latitude         0\n",
       "Passenger_count          0\n",
       "Trip_distance            0\n",
       "Fare_amount              0\n",
       "Extra                    0\n",
       "MTA_tax                  0\n",
       "Tip_amount               0\n",
       "Tolls_amount             0\n",
       "improvement_surcharge    0\n",
       "Total_amount             0\n",
       "Payment_type             0\n",
       "Trip_type                0\n",
       "z                        0\n",
       "Pickup_dt                0\n",
       "Dropoff_dt               0\n",
       "Pickup_hour              0\n",
       "Pickup_day               0\n",
       "Pickup_day_name          0\n",
       "Pick_Day_type            0\n",
       "Airport_trips            0\n",
       "Trip_duration            0\n",
       "Speed                    0\n",
       "dtype: int64"
      ]
     },
     "execution_count": 51,
     "metadata": {},
     "output_type": "execute_result"
    }
   ],
   "source": [
    "df.isnull().sum()"
   ]
  },
  {
   "cell_type": "code",
   "execution_count": 52,
   "metadata": {
    "collapsed": true
   },
   "outputs": [],
   "source": [
    "l = len(df)"
   ]
  },
  {
   "cell_type": "markdown",
   "metadata": {},
   "source": [
    "### Analysing each column for any anamolous data"
   ]
  },
  {
   "cell_type": "markdown",
   "metadata": {},
   "source": [
    "#### EDA"
   ]
  },
  {
   "cell_type": "markdown",
   "metadata": {},
   "source": [
    "1. The latitude bound of NYC is (40.63, 40.85) and the longitude bound is (-74.03, -73.75).Thus it makes sense to check whether our data is restricted within this limit or not. Also it is seen that numerous latitude and longitude values are 0. The only logical reasoning behind this would be that the device was unable to make an entry into the system because latitude = 0 means a pickup from some place on equator which is impossible.\n",
    "<br>\n",
    "<br>\n",
    "2. A number passenger count's are 0 which does not makes sense, unless the driver charges himself/herself for the trip. Hence replacing 0 count with median value.\n",
    "<br>\n",
    "<br>\n",
    "3. Reading the rules and regulations on TLC website, it becomes clear that the minimum fare amount for a taxi ride is 2.5 .Any value below this is replaed by the median value.\n",
    "<br>\n",
    "<br>\n",
    "4. Similary various other data such as Tip amount, Toll amount, Trip Distance,etc could be negative. Hence converted those to its absolute values and replaced others with the median/mean value."
   ]
  },
  {
   "cell_type": "markdown",
   "metadata": {},
   "source": [
    "<ln>"
   ]
  },
  {
   "cell_type": "code",
   "execution_count": 53,
   "metadata": {},
   "outputs": [
    {
     "name": "stdout",
     "output_type": "stream",
     "text": [
      "Dropped 6.293870809432359 % from latitude columns\n",
      "Dropped 0.3632878246221744 % from longitude columns\n",
      "Replaced 0.0 % in VendorID Column\n",
      "Replaced 0.0 % in Store_and_fwd_flag Column\n",
      "Replaced 0.0 % in RateCodeID Column\n",
      "Replaced 0.010401592211511141 % in Passenger_count Column\n",
      "Replaced 0.010401592211511141 % in Extra Column\n",
      "Replaced 0.0560569029922379 % in improvement_surcharge Column\n",
      "Replaced 0.055847474961133646 % in MTA_tax Column\n",
      "Replaced 6.980934370141705e-05 % in Tolls_amount Column\n",
      "Replaced 0.0 % in Payment_type Column\n",
      "Replaced 0.0 % in Payment_type Column\n",
      "Replaced 0.17878172921932908 % in Fare_amount Column\n",
      "Replaced 0.0 % in Trip_distance Column\n",
      "Replaced 6.980934370141705e-05 % in Tip_amount Column\n"
     ]
    }
   ],
   "source": [
    "#### 1. Latitude and Longitude\n",
    "ind = df[(df['Pickup_latitude']<40.63) | (df['Pickup_latitude']>40.85) | \n",
    "         (df['Dropoff_latitude']<40.63) | (df['Dropoff_latitude']>40.85)].index\n",
    "temp_df1 = df.drop(ind)\n",
    "\n",
    "ind1 = temp_df1[(temp_df1['Pickup_longitude']<-74.03) | (temp_df1['Pickup_longitude']>-73.75) | \n",
    "         (temp_df1['Dropoff_longitude']<-74.03) | (temp_df1['Dropoff_longitude']>-73.75)].index\n",
    "temp_df2 = temp_df1.drop(ind1)\n",
    "\n",
    "print('Dropped',100*len(ind)/l,'% from latitude columns')\n",
    "print('Dropped',100*len(ind1)/l,'% from longitude columns')\n",
    "\n",
    "\n",
    "#### 2. VendorID\n",
    "i = temp_df2[(temp_df2['VendorID']!=1)&(temp_df2['VendorID']!=2)].index\n",
    "temp_df2.loc[i,'VendorID'] = temp_df2['VendorID'].median()\n",
    "print('Replaced', 100 * len(i)/l,'% in VendorID Column')\n",
    "\n",
    "\n",
    "#### 3. Store_and_fwd_flag\n",
    "i = temp_df2[(temp_df2['Store_and_fwd_flag']!='Y')&(temp_df2['Store_and_fwd_flag']!='N')].index\n",
    "temp_df2.loc[i,'Store_and_fwd_flag'] = 'N'\n",
    "print('Replaced', 100 * len(i)/l,'% in Store_and_fwd_flag Column')\n",
    "\n",
    "\n",
    "#### 4. RateCodeID\n",
    "i = temp_df2[(temp_df2['RateCodeID']<1)|(temp_df2['RateCodeID']>6)].index\n",
    "temp_df2.loc[i,'RateCodeID'] = temp_df2['RateCodeID'].median()\n",
    "print('Replaced', 100 * len(i)/l,'% in RateCodeID Column')\n",
    "\n",
    "#### 5. Passenger count\n",
    "i = temp_df2[(temp_df2['Passenger_count']<=0)].index\n",
    "temp_df2.loc[i,'Passenger_count'] = temp_df2['Passenger_count'].median()\n",
    "print('Replaced', 100 * len(i)/l,'% in Passenger_count Column')\n",
    "\n",
    "#### 6. Extra\n",
    "ind3 = temp_df2[~((temp_df2['Extra']==0) | (temp_df2['Extra']==0.5) | (temp_df2['Extra']==1))].index\n",
    "temp_df2.loc[ind3, 'Extra'] = 0\n",
    "print('Replaced',100*len(i)/l,'% in Extra Column')\n",
    "\n",
    "#### 7. Improvement Surcharge\n",
    "i = temp_df2[(temp_df2['improvement_surcharge']<0)].index\n",
    "temp_df2.loc[i,'improvement_surcharge'] = temp_df2['improvement_surcharge'].median()\n",
    "print('Replaced', 100 * len(i)/l,'% in improvement_surcharge Column')\n",
    "\n",
    "#### 8. MTA tax\n",
    "i = temp_df2[(temp_df2['MTA_tax']<0)].index\n",
    "temp_df2.loc[i,'MTA_tax'] = temp_df2['MTA_tax'].median()\n",
    "print('Replaced', 100 * len(i)/l,'% in MTA_tax Column')\n",
    "\n",
    "#### 9. Tolls Amount\n",
    "i = temp_df2[(temp_df2['Tolls_amount']<0)].index\n",
    "temp_df2.loc[i,'Tolls_amount'] = temp_df2['Tolls_amount'].median()\n",
    "print('Replaced', 100 * len(i)/l,'% in Tolls_amount Column')\n",
    "\n",
    "#### 10. Payment type\n",
    "i = temp_df2[(temp_df2['Payment_type']<1)|(temp_df2['Payment_type']>5)].index\n",
    "temp_df2.loc[i,'Payment_type'] = temp_df2['Payment_type'].median()\n",
    "print('Replaced', 100 * len(i)/l,'% in Payment_type Column')\n",
    "\n",
    "#### 11. Trip type\n",
    "i = temp_df2[~((temp_df2['Trip_type ']==1)|(temp_df2['Trip_type ']==2))].index\n",
    "temp_df2.loc[i,'Trip_type '] = temp_df2['Trip_type '].median()\n",
    "print('Replaced', 100 * len(i)/l,'% in Payment_type Column')\n",
    "\n",
    "#### 12. Fare Amount\n",
    "temp_df2['Fare_amount']=temp_df2['Fare_amount'].apply(lambda x : np.abs(x) if x<0 else x)\n",
    "i = temp_df2[temp_df2['Fare_amount']<=2.5].index\n",
    "temp_df2.loc[i,'Fare_amount'] = temp_df2['Fare_amount'].median()\n",
    "print('Replaced', 100 * len(i)/l,'% in Fare_amount Column')\n",
    "\n",
    "#### 13. Trip Distance\n",
    "i = temp_df2[temp_df2['Trip_distance']<=0].index\n",
    "temp_df2.loc[i,'Trip_distance'] = temp_df2['Trip_distance'].median()\n",
    "print('Replaced', 100 * len(i)/l,'% in Trip_distance Column')\n",
    "\n",
    "#### 14. Tip Amount\n",
    "i = temp_df2[temp_df2['Tip_amount']<0].index\n",
    "temp_df2.loc[i,'Tip_amount'] = temp_df2['Tip_amount'].median()\n",
    "print('Replaced', 100 * len(i)/l,'% in Tip_amount Column')\n"
   ]
  },
  {
   "cell_type": "code",
   "execution_count": 54,
   "metadata": {
    "collapsed": true
   },
   "outputs": [],
   "source": [
    "temp_df2['Cal_amount'] = temp_df2['Fare_amount'] + temp_df2['Tip_amount'] + temp_df2['Extra'] + temp_df2['MTA_tax'] + temp_df2['improvement_surcharge'] + temp_df2['Tolls_amount']"
   ]
  },
  {
   "cell_type": "code",
   "execution_count": 55,
   "metadata": {},
   "outputs": [
    {
     "data": {
      "text/html": [
       "<div>\n",
       "<style>\n",
       "    .dataframe thead tr:only-child th {\n",
       "        text-align: right;\n",
       "    }\n",
       "\n",
       "    .dataframe thead th {\n",
       "        text-align: left;\n",
       "    }\n",
       "\n",
       "    .dataframe tbody tr th {\n",
       "        vertical-align: top;\n",
       "    }\n",
       "</style>\n",
       "<table border=\"1\" class=\"dataframe\">\n",
       "  <thead>\n",
       "    <tr style=\"text-align: right;\">\n",
       "      <th></th>\n",
       "      <th>Total_amount</th>\n",
       "      <th>Cal_amount</th>\n",
       "    </tr>\n",
       "  </thead>\n",
       "  <tbody>\n",
       "    <tr>\n",
       "      <th>Total_amount</th>\n",
       "      <td>1.000000</td>\n",
       "      <td>0.997133</td>\n",
       "    </tr>\n",
       "    <tr>\n",
       "      <th>Cal_amount</th>\n",
       "      <td>0.997133</td>\n",
       "      <td>1.000000</td>\n",
       "    </tr>\n",
       "  </tbody>\n",
       "</table>\n",
       "</div>"
      ],
      "text/plain": [
       "              Total_amount  Cal_amount\n",
       "Total_amount      1.000000    0.997133\n",
       "Cal_amount        0.997133    1.000000"
      ]
     },
     "execution_count": 55,
     "metadata": {},
     "output_type": "execute_result"
    }
   ],
   "source": [
    "temp_df2[['Total_amount','Cal_amount']].corr()"
   ]
  },
  {
   "cell_type": "markdown",
   "metadata": {},
   "source": [
    "We see that the calculated amount and the total amount given in dataset are highly correlated. \n",
    "<br>\n",
    "Hence we can drop Total amout column that contains erroneous data."
   ]
  },
  {
   "cell_type": "markdown",
   "metadata": {},
   "source": [
    "Also I create the terget variable Tip Percent out of cleaned data."
   ]
  },
  {
   "cell_type": "code",
   "execution_count": 56,
   "metadata": {
    "collapsed": true
   },
   "outputs": [],
   "source": [
    "temp_df2['Tip_percent'] = temp_df2['Tip_amount']/temp_df2['Cal_amount'] *100"
   ]
  },
  {
   "cell_type": "code",
   "execution_count": 57,
   "metadata": {},
   "outputs": [
    {
     "data": {
      "text/plain": [
       "Index(['VendorID', 'lpep_pickup_datetime', 'Lpep_dropoff_datetime',\n",
       "       'Store_and_fwd_flag', 'RateCodeID', 'Pickup_longitude',\n",
       "       'Pickup_latitude', 'Dropoff_longitude', 'Dropoff_latitude',\n",
       "       'Passenger_count', 'Trip_distance', 'Fare_amount', 'Extra', 'MTA_tax',\n",
       "       'Tip_amount', 'Tolls_amount', 'improvement_surcharge', 'Total_amount',\n",
       "       'Payment_type', 'Trip_type ', 'z', 'Pickup_dt', 'Dropoff_dt',\n",
       "       'Pickup_hour', 'Pickup_day', 'Pickup_day_name', 'Pick_Day_type',\n",
       "       'Airport_trips', 'Trip_duration', 'Speed', 'Cal_amount', 'Tip_percent'],\n",
       "      dtype='object')"
      ]
     },
     "execution_count": 57,
     "metadata": {},
     "output_type": "execute_result"
    }
   ],
   "source": [
    "temp_df2.columns"
   ]
  },
  {
   "cell_type": "markdown",
   "metadata": {},
   "source": [
    "Droppping unnecessary columns."
   ]
  },
  {
   "cell_type": "code",
   "execution_count": 58,
   "metadata": {
    "collapsed": true
   },
   "outputs": [],
   "source": [
    "df_raw = temp_df2.drop(['lpep_pickup_datetime', 'Lpep_dropoff_datetime','z','Pickup_day','Pick_Day_type','Total_amount'],axis=1)"
   ]
  },
  {
   "cell_type": "code",
   "execution_count": 59,
   "metadata": {},
   "outputs": [
    {
     "data": {
      "text/plain": [
       "(1337111, 26)"
      ]
     },
     "execution_count": 59,
     "metadata": {},
     "output_type": "execute_result"
    }
   ],
   "source": [
    "df_raw.shape"
   ]
  },
  {
   "cell_type": "code",
   "execution_count": 60,
   "metadata": {},
   "outputs": [
    {
     "data": {
      "text/html": [
       "<div>\n",
       "<style>\n",
       "    .dataframe thead tr:only-child th {\n",
       "        text-align: right;\n",
       "    }\n",
       "\n",
       "    .dataframe thead th {\n",
       "        text-align: left;\n",
       "    }\n",
       "\n",
       "    .dataframe tbody tr th {\n",
       "        vertical-align: top;\n",
       "    }\n",
       "</style>\n",
       "<table border=\"1\" class=\"dataframe\">\n",
       "  <thead>\n",
       "    <tr style=\"text-align: right;\">\n",
       "      <th></th>\n",
       "      <th>VendorID</th>\n",
       "      <th>Store_and_fwd_flag</th>\n",
       "      <th>RateCodeID</th>\n",
       "      <th>Pickup_longitude</th>\n",
       "      <th>Pickup_latitude</th>\n",
       "      <th>Dropoff_longitude</th>\n",
       "      <th>Dropoff_latitude</th>\n",
       "      <th>Passenger_count</th>\n",
       "      <th>Trip_distance</th>\n",
       "      <th>Fare_amount</th>\n",
       "      <th>Extra</th>\n",
       "      <th>MTA_tax</th>\n",
       "      <th>Tip_amount</th>\n",
       "      <th>Tolls_amount</th>\n",
       "      <th>improvement_surcharge</th>\n",
       "      <th>Payment_type</th>\n",
       "      <th>Trip_type</th>\n",
       "      <th>Pickup_dt</th>\n",
       "      <th>Dropoff_dt</th>\n",
       "      <th>Pickup_hour</th>\n",
       "      <th>Pickup_day_name</th>\n",
       "      <th>Airport_trips</th>\n",
       "      <th>Trip_duration</th>\n",
       "      <th>Speed</th>\n",
       "      <th>Cal_amount</th>\n",
       "      <th>Tip_percent</th>\n",
       "    </tr>\n",
       "  </thead>\n",
       "  <tbody>\n",
       "    <tr>\n",
       "      <th>2</th>\n",
       "      <td>2.0</td>\n",
       "      <td>N</td>\n",
       "      <td>1.0</td>\n",
       "      <td>-73.921410</td>\n",
       "      <td>40.766708</td>\n",
       "      <td>-73.914413</td>\n",
       "      <td>40.764687</td>\n",
       "      <td>1.0</td>\n",
       "      <td>0.59</td>\n",
       "      <td>4.0</td>\n",
       "      <td>0.5</td>\n",
       "      <td>0.5</td>\n",
       "      <td>0.50</td>\n",
       "      <td>0.0</td>\n",
       "      <td>0.3</td>\n",
       "      <td>1.0</td>\n",
       "      <td>1.0</td>\n",
       "      <td>2015-09-01 00:01:50</td>\n",
       "      <td>2015-09-01 00:04:24</td>\n",
       "      <td>0</td>\n",
       "      <td>Tue</td>\n",
       "      <td>0</td>\n",
       "      <td>0.042778</td>\n",
       "      <td>13.792208</td>\n",
       "      <td>5.80</td>\n",
       "      <td>8.620690</td>\n",
       "    </tr>\n",
       "    <tr>\n",
       "      <th>3</th>\n",
       "      <td>2.0</td>\n",
       "      <td>N</td>\n",
       "      <td>1.0</td>\n",
       "      <td>-73.921387</td>\n",
       "      <td>40.766678</td>\n",
       "      <td>-73.931427</td>\n",
       "      <td>40.771584</td>\n",
       "      <td>1.0</td>\n",
       "      <td>0.74</td>\n",
       "      <td>5.0</td>\n",
       "      <td>0.5</td>\n",
       "      <td>0.5</td>\n",
       "      <td>0.00</td>\n",
       "      <td>0.0</td>\n",
       "      <td>0.3</td>\n",
       "      <td>2.0</td>\n",
       "      <td>1.0</td>\n",
       "      <td>2015-09-01 00:02:36</td>\n",
       "      <td>2015-09-01 00:06:42</td>\n",
       "      <td>0</td>\n",
       "      <td>Tue</td>\n",
       "      <td>0</td>\n",
       "      <td>0.068333</td>\n",
       "      <td>10.829268</td>\n",
       "      <td>6.30</td>\n",
       "      <td>0.000000</td>\n",
       "    </tr>\n",
       "    <tr>\n",
       "      <th>4</th>\n",
       "      <td>2.0</td>\n",
       "      <td>N</td>\n",
       "      <td>1.0</td>\n",
       "      <td>-73.955482</td>\n",
       "      <td>40.714046</td>\n",
       "      <td>-73.944412</td>\n",
       "      <td>40.714729</td>\n",
       "      <td>1.0</td>\n",
       "      <td>0.61</td>\n",
       "      <td>5.0</td>\n",
       "      <td>0.5</td>\n",
       "      <td>0.5</td>\n",
       "      <td>0.00</td>\n",
       "      <td>0.0</td>\n",
       "      <td>0.3</td>\n",
       "      <td>2.0</td>\n",
       "      <td>1.0</td>\n",
       "      <td>2015-09-01 00:00:14</td>\n",
       "      <td>2015-09-01 00:04:20</td>\n",
       "      <td>0</td>\n",
       "      <td>Tue</td>\n",
       "      <td>0</td>\n",
       "      <td>0.068333</td>\n",
       "      <td>8.926829</td>\n",
       "      <td>6.30</td>\n",
       "      <td>0.000000</td>\n",
       "    </tr>\n",
       "    <tr>\n",
       "      <th>5</th>\n",
       "      <td>2.0</td>\n",
       "      <td>N</td>\n",
       "      <td>1.0</td>\n",
       "      <td>-73.945297</td>\n",
       "      <td>40.808186</td>\n",
       "      <td>-73.937668</td>\n",
       "      <td>40.821198</td>\n",
       "      <td>1.0</td>\n",
       "      <td>1.07</td>\n",
       "      <td>5.5</td>\n",
       "      <td>0.5</td>\n",
       "      <td>0.5</td>\n",
       "      <td>1.36</td>\n",
       "      <td>0.0</td>\n",
       "      <td>0.3</td>\n",
       "      <td>1.0</td>\n",
       "      <td>1.0</td>\n",
       "      <td>2015-09-01 00:00:39</td>\n",
       "      <td>2015-09-01 00:05:20</td>\n",
       "      <td>0</td>\n",
       "      <td>Tue</td>\n",
       "      <td>0</td>\n",
       "      <td>0.078056</td>\n",
       "      <td>13.708185</td>\n",
       "      <td>8.16</td>\n",
       "      <td>16.666667</td>\n",
       "    </tr>\n",
       "    <tr>\n",
       "      <th>6</th>\n",
       "      <td>2.0</td>\n",
       "      <td>N</td>\n",
       "      <td>1.0</td>\n",
       "      <td>-73.890877</td>\n",
       "      <td>40.746426</td>\n",
       "      <td>-73.876923</td>\n",
       "      <td>40.756306</td>\n",
       "      <td>1.0</td>\n",
       "      <td>1.43</td>\n",
       "      <td>6.5</td>\n",
       "      <td>0.5</td>\n",
       "      <td>0.5</td>\n",
       "      <td>0.00</td>\n",
       "      <td>0.0</td>\n",
       "      <td>0.3</td>\n",
       "      <td>1.0</td>\n",
       "      <td>1.0</td>\n",
       "      <td>2015-09-01 00:00:52</td>\n",
       "      <td>2015-09-01 00:05:50</td>\n",
       "      <td>0</td>\n",
       "      <td>Tue</td>\n",
       "      <td>0</td>\n",
       "      <td>0.082778</td>\n",
       "      <td>17.275168</td>\n",
       "      <td>7.80</td>\n",
       "      <td>0.000000</td>\n",
       "    </tr>\n",
       "  </tbody>\n",
       "</table>\n",
       "</div>"
      ],
      "text/plain": [
       "   VendorID Store_and_fwd_flag  RateCodeID  Pickup_longitude  Pickup_latitude  \\\n",
       "2       2.0                  N         1.0        -73.921410        40.766708   \n",
       "3       2.0                  N         1.0        -73.921387        40.766678   \n",
       "4       2.0                  N         1.0        -73.955482        40.714046   \n",
       "5       2.0                  N         1.0        -73.945297        40.808186   \n",
       "6       2.0                  N         1.0        -73.890877        40.746426   \n",
       "\n",
       "   Dropoff_longitude  Dropoff_latitude  Passenger_count  Trip_distance  \\\n",
       "2         -73.914413         40.764687              1.0           0.59   \n",
       "3         -73.931427         40.771584              1.0           0.74   \n",
       "4         -73.944412         40.714729              1.0           0.61   \n",
       "5         -73.937668         40.821198              1.0           1.07   \n",
       "6         -73.876923         40.756306              1.0           1.43   \n",
       "\n",
       "   Fare_amount  Extra  MTA_tax  Tip_amount  Tolls_amount  \\\n",
       "2          4.0    0.5      0.5        0.50           0.0   \n",
       "3          5.0    0.5      0.5        0.00           0.0   \n",
       "4          5.0    0.5      0.5        0.00           0.0   \n",
       "5          5.5    0.5      0.5        1.36           0.0   \n",
       "6          6.5    0.5      0.5        0.00           0.0   \n",
       "\n",
       "   improvement_surcharge  Payment_type  Trip_type            Pickup_dt  \\\n",
       "2                    0.3           1.0         1.0 2015-09-01 00:01:50   \n",
       "3                    0.3           2.0         1.0 2015-09-01 00:02:36   \n",
       "4                    0.3           2.0         1.0 2015-09-01 00:00:14   \n",
       "5                    0.3           1.0         1.0 2015-09-01 00:00:39   \n",
       "6                    0.3           1.0         1.0 2015-09-01 00:00:52   \n",
       "\n",
       "           Dropoff_dt  Pickup_hour Pickup_day_name  Airport_trips  \\\n",
       "2 2015-09-01 00:04:24            0             Tue              0   \n",
       "3 2015-09-01 00:06:42            0             Tue              0   \n",
       "4 2015-09-01 00:04:20            0             Tue              0   \n",
       "5 2015-09-01 00:05:20            0             Tue              0   \n",
       "6 2015-09-01 00:05:50            0             Tue              0   \n",
       "\n",
       "   Trip_duration      Speed  Cal_amount  Tip_percent  \n",
       "2       0.042778  13.792208        5.80     8.620690  \n",
       "3       0.068333  10.829268        6.30     0.000000  \n",
       "4       0.068333   8.926829        6.30     0.000000  \n",
       "5       0.078056  13.708185        8.16    16.666667  \n",
       "6       0.082778  17.275168        7.80     0.000000  "
      ]
     },
     "execution_count": 60,
     "metadata": {},
     "output_type": "execute_result"
    }
   ],
   "source": [
    "df_raw.head()"
   ]
  },
  {
   "cell_type": "code",
   "execution_count": null,
   "metadata": {},
   "outputs": [],
   "source": []
  },
  {
   "cell_type": "code",
   "execution_count": null,
   "metadata": {
    "collapsed": true
   },
   "outputs": [],
   "source": []
  },
  {
   "cell_type": "markdown",
   "metadata": {},
   "source": [
    "Before building a model to predict amount of tip, lets see how many transactions involve a tip being paid"
   ]
  },
  {
   "cell_type": "code",
   "execution_count": 61,
   "metadata": {
    "collapsed": true
   },
   "outputs": [],
   "source": [
    "df['Tip_percentage'] = df['Tip_amount']/df['Total_amount'] * 100"
   ]
  },
  {
   "cell_type": "code",
   "execution_count": 62,
   "metadata": {},
   "outputs": [
    {
     "data": {
      "image/png": "[encoded data removed]",
      "text/plain": [
       "<matplotlib.figure.Figure at 0x234001c2f60>"
      ]
     },
     "metadata": {},
     "output_type": "display_data"
    }
   ],
   "source": [
    "data1 = df_raw[df_raw['Tip_percent']>0]\n",
    "fig,ax=plt.subplots(1,2,figsize=(14,4))\n",
    "data1.Tip_percent.hist(bins = 20,ax=ax[0])\n",
    "ax[0].set_xlabel('Tip (%)')\n",
    "ax[0].set_ylabel('Count')\n",
    "ax[0].set_title('Tip % - Only transactions with tips')\n",
    "\n",
    "df_raw.Tip_percent.hist(bins = 20,ax=ax[1])\n",
    "ax[1].set_xlabel('Tip (%)')\n",
    "ax[1].set_title('All Transactions')\n",
    "ax[1].set_ylabel('Count')\n",
    "plt.savefig('All Transactions')"
   ]
  },
  {
   "cell_type": "code",
   "execution_count": 63,
   "metadata": {},
   "outputs": [
    {
     "data": {
      "text/plain": [
       "16.310603883777627"
      ]
     },
     "execution_count": 63,
     "metadata": {},
     "output_type": "execute_result"
    }
   ],
   "source": [
    "df_raw['Tip_percent'][df_raw['Tip_percent']>0].mean()"
   ]
  },
  {
   "cell_type": "markdown",
   "metadata": {},
   "source": [
    "Learning how Tip percent varies with hour of Day"
   ]
  },
  {
   "cell_type": "code",
   "execution_count": 64,
   "metadata": {},
   "outputs": [
    {
     "data": {
      "image/png": "[encoded data removed]",
      "text/plain": [
       "<matplotlib.figure.Figure at 0x2346568ebe0>"
      ]
     },
     "metadata": {},
     "output_type": "display_data"
    }
   ],
   "source": [
    "fig = plt.figure(figsize=(6,3),dpi=100)\n",
    "sns.pointplot(x='Pickup_hour',y='Tip_percent',data=table2,hue='RateCodeID')\n",
    "plt.title('Average tip percent for airport related trips vs Hour of Day')\n",
    "plt.savefig('Average tip percent for airport related trips vs Hour of Day')"
   ]
  },
  {
   "cell_type": "markdown",
   "metadata": {},
   "source": [
    "Understanding tipping behaviour when it is an airport trip and whether it is on a week day or weekend"
   ]
  },
  {
   "cell_type": "code",
   "execution_count": 65,
   "metadata": {},
   "outputs": [
    {
     "data": {
      "image/png": "[encoded data removed]",
      "text/plain": [
       "<matplotlib.figure.Figure at 0x234003dc320>"
      ]
     },
     "metadata": {},
     "output_type": "display_data"
    }
   ],
   "source": [
    "fig,ax = plt.subplots(1,2,figsize = (15,4))\n",
    "plt.subplot(1,2,1)\n",
    "sns.barplot(x='Pickup_hour',y='Tip_percent',data=grp_airport_weekday,ci=None)\n",
    "ax[0].set_xlabel('Trip Distance (miles)')\n",
    "ax[0].set_ylabel('Count')\n",
    "ax[0].set_yscale('log')\n",
    "ax[0].set_title('Weekday airport trips')\n",
    "plt.title('Weekday airport trips')\n",
    "\n",
    "plt.subplot(1,2,2)\n",
    "sns.barplot(x='Pickup_hour',y='Tip_percent',data=grp_airport_weekend,ci=None)\n",
    "ax[1].set_xlabel('Trip Distance (miles)')\n",
    "ax[1].set_ylabel('Count')\n",
    "ax[1].set_yscale('log')\n",
    "ax[1].set_title('Weekend aiport trips')\n",
    "plt.title('Weekend airport trips')\n",
    "plt.savefig('Weekend airport trips tip without hue')"
   ]
  },
  {
   "cell_type": "markdown",
   "metadata": {},
   "source": [
    "Understanding tipping behaviour when it is an airport trip and whether it is on a week day or weekend for \n",
    "<br>\n",
    "each airport"
   ]
  },
  {
   "cell_type": "code",
   "execution_count": 66,
   "metadata": {},
   "outputs": [
    {
     "data": {
      "text/plain": [
       "<matplotlib.text.Text at 0x23400356a58>"
      ]
     },
     "execution_count": 66,
     "metadata": {},
     "output_type": "execute_result"
    },
    {
     "data": {
      "image/png": "[encoded data removed]",
      "text/plain": [
       "<matplotlib.figure.Figure at 0x234003dcef0>"
      ]
     },
     "metadata": {},
     "output_type": "display_data"
    }
   ],
   "source": [
    "fig,ax = plt.subplots(1,2,figsize = (15,4))\n",
    "plt.subplot(1,2,1)\n",
    "sns.barplot(x='Pickup_hour',y='Tip_percent',data=grp_airport_weekday,ci=None,hue='RateCodeID')\n",
    "ax[0].set_xlabel('Trip Distance (miles)')\n",
    "ax[0].set_ylabel('Count')\n",
    "ax[0].set_yscale('log')\n",
    "ax[0].set_title('Weekday airport trips')\n",
    "plt.title('Weekday airport trips')\n",
    "\n",
    "plt.subplot(1,2,2)\n",
    "sns.barplot(x='Pickup_hour',y='Tip_percent',data=grp_airport_weekend,ci=None,hue='RateCodeID')\n",
    "ax[1].set_xlabel('Trip Distance (miles)')\n",
    "ax[1].set_ylabel('Count')\n",
    "ax[1].set_yscale('log')\n",
    "ax[1].set_title('Weekend aiport trips')\n",
    "plt.title('Weekend airport trips tip with hue')"
   ]
  },
  {
   "cell_type": "code",
   "execution_count": 67,
   "metadata": {
    "collapsed": true
   },
   "outputs": [],
   "source": [
    "tb3 = df_raw.pivot_table(index='Pickup_day_name',columns='Pickup_hour',values='Tip_percent')"
   ]
  },
  {
   "cell_type": "code",
   "execution_count": 68,
   "metadata": {},
   "outputs": [
    {
     "data": {
      "image/png": "[encoded data removed]",
      "text/plain": [
       "<matplotlib.figure.Figure at 0x234003e1710>"
      ]
     },
     "metadata": {},
     "output_type": "display_data"
    }
   ],
   "source": [
    "sns.clustermap(tb3)\n",
    "plt.title('Clustermap depicting clusters of similar tip percent during time of day and throughout week')\n",
    "plt.savefig('Clustermap')"
   ]
  },
  {
   "cell_type": "code",
   "execution_count": 69,
   "metadata": {
    "collapsed": true
   },
   "outputs": [],
   "source": [
    "tb2 = data1.pivot_table(index='Pickup_day_name',columns='Pickup_hour',values='Tip_percent')"
   ]
  },
  {
   "cell_type": "markdown",
   "metadata": {},
   "source": [
    "Creating the Target Variable which would be 1 if tip is paid else 0"
   ]
  },
  {
   "cell_type": "code",
   "execution_count": 70,
   "metadata": {
    "collapsed": true
   },
   "outputs": [],
   "source": [
    "df_raw['Target'] = df_raw['Tip_percent'].apply(lambda x : 1 if x>0 else 0)"
   ]
  },
  {
   "cell_type": "code",
   "execution_count": 71,
   "metadata": {},
   "outputs": [
    {
     "data": {
      "text/plain": [
       "0    774412\n",
       "1    562699\n",
       "Name: Target, dtype: int64"
      ]
     },
     "execution_count": 71,
     "metadata": {},
     "output_type": "execute_result"
    }
   ],
   "source": [
    "df_raw['Target'].value_counts()"
   ]
  },
  {
   "cell_type": "markdown",
   "metadata": {},
   "source": [
    "### Model building\n",
    "Since such a large proportion of people dont pay tip, I decided to create my model in two parts.\n",
    "<br>\n",
    "Part1: Predict whether a tip would be provided or not\n",
    "Part2: If the transaction is classified as one where tip is provided, predict how much in tip would be paid."
   ]
  },
  {
   "cell_type": "markdown",
   "metadata": {},
   "source": [
    "### Part 1"
   ]
  },
  {
   "cell_type": "markdown",
   "metadata": {},
   "source": [
    "Creating the dataframe with necessary variable to build model"
   ]
  },
  {
   "cell_type": "code",
   "execution_count": 72,
   "metadata": {
    "collapsed": true
   },
   "outputs": [],
   "source": [
    "x = df_raw[['Pickup_longitude',\n",
    "       'Pickup_latitude', 'Dropoff_longitude', 'Dropoff_latitude',\n",
    "       'Passenger_count', 'Trip_distance',\n",
    "       'Payment_type', 'Pickup_hour',\n",
    "       'Trip_duration', 'Speed','Cal_amount','Airport_trips']]"
   ]
  },
  {
   "cell_type": "code",
   "execution_count": 73,
   "metadata": {
    "collapsed": true
   },
   "outputs": [],
   "source": [
    "y=df_raw['Target']"
   ]
  },
  {
   "cell_type": "markdown",
   "metadata": {},
   "source": [
    "Creating seperate train and test sets so as to cross validate the model"
   ]
  },
  {
   "cell_type": "code",
   "execution_count": 74,
   "metadata": {
    "collapsed": true
   },
   "outputs": [],
   "source": [
    "x_train,x_test,y_train,y_test = train_test_split(x,y,test_size=0.5,random_state=100)"
   ]
  },
  {
   "cell_type": "code",
   "execution_count": 75,
   "metadata": {},
   "outputs": [
    {
     "name": "stdout",
     "output_type": "stream",
     "text": [
      "0.971314855395\n",
      "[[  2.09675710e+00  -7.29060339e-01  -5.06151233e+00  -3.76946116e+00\n",
      "   -6.68802105e-03  -3.11457839e+00  -4.00216441e+01  -1.19903578e-02\n",
      "   -3.08469037e+01   2.87769462e-02   1.48275766e+00  -7.85645414e+00]]\n"
     ]
    }
   ],
   "source": [
    "log1 = LogisticRegression()\n",
    "log1.fit(x_train,y_train)\n",
    "y_pred=log1.predict(x_test)\n",
    "print(skm.roc_auc_score(y_test,y_pred))\n",
    "print(log1.coef_)"
   ]
  },
  {
   "cell_type": "code",
   "execution_count": 76,
   "metadata": {},
   "outputs": [
    {
     "data": {
      "text/plain": [
       "array([[369472,  18050],\n",
       "       [  3033, 278001]], dtype=int64)"
      ]
     },
     "execution_count": 76,
     "metadata": {},
     "output_type": "execute_result"
    }
   ],
   "source": [
    "skm.confusion_matrix(y_test,y_pred)"
   ]
  },
  {
   "cell_type": "markdown",
   "metadata": {},
   "source": [
    "Currently our data resides in a DataFrame. But to deal with categorical values we would need to use the one-hot \n",
    "<br>\n",
    "encoding process from the sklearn library which works only on numpy arrays, hence we convert the relevant columns \n",
    "<br>\n",
    "to numpy arrays in further analysis and encode them to one-hot vectors."
   ]
  },
  {
   "cell_type": "code",
   "execution_count": 77,
   "metadata": {},
   "outputs": [
    {
     "name": "stderr",
     "output_type": "stream",
     "text": [
      "E:\\Python\\lib\\site-packages\\sklearn\\preprocessing\\label.py:95: DataConversionWarning: A column-vector y was passed when a 1d array was expected. Please change the shape of y to (n_samples, ), for example using ravel().\n",
      "  y = column_or_1d(y, warn=True)\n"
     ]
    }
   ],
   "source": [
    "X_pre_encode = df_raw['VendorID'].as_matrix()\n",
    "le = preprocessing.LabelEncoder()\n",
    "le.fit(X_pre_encode.reshape(X_pre_encode.shape[0],1))\n",
    "ans = le.transform(X_pre_encode)\n",
    "\n",
    "enc = OneHotEncoder()\n",
    "enc.fit(ans.reshape(X_pre_encode.shape[0],1))\n",
    "ans1 = enc.transform(ans.reshape(X_pre_encode.shape[0],1)).toarray()\n",
    "\n",
    "X_pre_encode = df_raw['Store_and_fwd_flag'].as_matrix()\n",
    "le = preprocessing.LabelEncoder()\n",
    "le.fit(X_pre_encode.reshape(X_pre_encode.shape[0],1))\n",
    "ans = le.transform(X_pre_encode)\n",
    "\n",
    "enc = OneHotEncoder()\n",
    "enc.fit(ans.reshape(X_pre_encode.shape[0],1))\n",
    "ans2 = enc.transform(ans.reshape(X_pre_encode.shape[0],1)).toarray()\n",
    "\n",
    "X = np.c_[ans1,ans2]"
   ]
  },
  {
   "cell_type": "code",
   "execution_count": null,
   "metadata": {
    "collapsed": true
   },
   "outputs": [],
   "source": []
  },
  {
   "cell_type": "code",
   "execution_count": 78,
   "metadata": {
    "collapsed": true
   },
   "outputs": [],
   "source": [
    "X = np.c_[X , df_raw['Passenger_count'].as_matrix(),df_raw['Trip_distance'].as_matrix(),df_raw['Fare_amount'].as_matrix(),\n",
    "         df_raw['Extra'].as_matrix(),df_raw['MTA_tax'].as_matrix(),df_raw['Tolls_amount'].as_matrix(),\n",
    "         df_raw['improvement_surcharge'].as_matrix(), df_raw['Trip_duration'].as_matrix(),df_raw['Speed'].as_matrix(),\n",
    "         df_raw['Cal_amount'].as_matrix()]"
   ]
  },
  {
   "cell_type": "code",
   "execution_count": 79,
   "metadata": {},
   "outputs": [
    {
     "name": "stderr",
     "output_type": "stream",
     "text": [
      "E:\\Python\\lib\\site-packages\\sklearn\\preprocessing\\label.py:95: DataConversionWarning: A column-vector y was passed when a 1d array was expected. Please change the shape of y to (n_samples, ), for example using ravel().\n",
      "  y = column_or_1d(y, warn=True)\n"
     ]
    }
   ],
   "source": [
    "for col in ['Payment_type','Pickup_hour','Airport_trips','RateCodeID','Pickup_day_name']:\n",
    "\n",
    "    X_pre_encode = df_raw[col].as_matrix()\n",
    "    le = preprocessing.LabelEncoder()\n",
    "    le.fit(X_pre_encode.reshape(X_pre_encode.shape[0],1))\n",
    "    ans = le.transform(X_pre_encode)\n",
    "\n",
    "    enc = OneHotEncoder()\n",
    "    enc.fit(ans.reshape(X_pre_encode.shape[0],1))\n",
    "    ans2 = enc.transform(ans.reshape(X_pre_encode.shape[0],1)).toarray()\n",
    "    X = np.c_[X,ans2]"
   ]
  },
  {
   "cell_type": "markdown",
   "metadata": {},
   "source": [
    "Shape of array after onehot encoding"
   ]
  },
  {
   "cell_type": "code",
   "execution_count": 80,
   "metadata": {},
   "outputs": [
    {
     "data": {
      "text/plain": [
       "(1337111, 58)"
      ]
     },
     "execution_count": 80,
     "metadata": {},
     "output_type": "execute_result"
    }
   ],
   "source": [
    "X.shape"
   ]
  },
  {
   "cell_type": "code",
   "execution_count": 81,
   "metadata": {
    "collapsed": true
   },
   "outputs": [],
   "source": [
    "Y = df_raw['Tip_percent'].as_matrix()"
   ]
  },
  {
   "cell_type": "markdown",
   "metadata": {
    "collapsed": true
   },
   "source": [
    "Again creating train and test sets to cross validate the model"
   ]
  },
  {
   "cell_type": "code",
   "execution_count": 82,
   "metadata": {
    "collapsed": true
   },
   "outputs": [],
   "source": [
    "x_train3,x_test3,y_train3,y_test3 = train_test_split(X,Y,test_size=0.5,random_state=100)"
   ]
  },
  {
   "cell_type": "code",
   "execution_count": 83,
   "metadata": {},
   "outputs": [
    {
     "name": "stdout",
     "output_type": "stream",
     "text": [
      "Coefficients: \n",
      " [ -1.87728857e+07  -1.87728858e+07  -1.87461848e+10  -1.87461848e+10\n",
      "   2.51030959e-02  -1.04264382e-01  -2.44639155e+00  -2.52527750e+00\n",
      "  -1.48437785e+00  -2.50657749e+00  -3.61211921e+00   5.20506740e-01\n",
      "   2.27355957e-02   2.23757935e+00  -6.67505394e+07  -6.67505485e+07\n",
      "  -6.67505487e+07  -6.67505487e+07  -6.67505475e+07   4.04015730e+07\n",
      "   4.04015730e+07   4.04015731e+07   4.04015730e+07   4.04015729e+07\n",
      "   4.04015727e+07   4.04015726e+07   4.04015726e+07   4.04015727e+07\n",
      "   4.04015728e+07   4.04015729e+07   4.04015729e+07   4.04015729e+07\n",
      "   4.04015729e+07   4.04015729e+07   4.04015729e+07   4.04015729e+07\n",
      "   4.04015730e+07   4.04015731e+07   4.04015731e+07   4.04015731e+07\n",
      "   4.04015731e+07   4.04015732e+07   4.04015731e+07   2.86456427e+08\n",
      "   1.91676137e+08   1.57230161e+07   1.10503305e+08   1.10503307e+08\n",
      "   1.57230156e+07   1.57230161e+07   1.57230152e+07   5.84128591e+07\n",
      "   5.84128592e+07   5.84128592e+07   5.84128592e+07   5.84128591e+07\n",
      "   5.84128591e+07   5.84128591e+07]\n"
     ]
    }
   ],
   "source": [
    "# Create linear regression object\n",
    "regr = linear_model.LinearRegression()\n",
    "\n",
    "# Train the model using the training sets\n",
    "regr.fit(x_train3, y_train3)\n",
    "# The coefficients\n",
    "print('Coefficients: \\n', regr.coef_)\n"
   ]
  },
  {
   "cell_type": "code",
   "execution_count": 84,
   "metadata": {},
   "outputs": [
    {
     "data": {
      "text/plain": [
       "13.6469128444832"
      ]
     },
     "execution_count": 84,
     "metadata": {},
     "output_type": "execute_result"
    }
   ],
   "source": [
    "y_pred3 = regr.predict(x_test3)\n",
    "# The mean squared error\n",
    "skm.mean_squared_error(y_test3,y_pred3)"
   ]
  },
  {
   "cell_type": "code",
   "execution_count": 85,
   "metadata": {},
   "outputs": [
    {
     "data": {
      "text/plain": [
       "0.81657073910975753"
      ]
     },
     "execution_count": 85,
     "metadata": {},
     "output_type": "execute_result"
    }
   ],
   "source": [
    "skm.explained_variance_score(y_test3,y_pred3)\n",
    "# Explained variance score: 1 is perfect prediction"
   ]
  },
  {
   "cell_type": "code",
   "execution_count": null,
   "metadata": {
    "collapsed": true
   },
   "outputs": [],
   "source": []
  },
  {
   "cell_type": "code",
   "execution_count": null,
   "metadata": {
    "collapsed": true
   },
   "outputs": [],
   "source": []
  },
  {
   "cell_type": "markdown",
   "metadata": {},
   "source": [
    "# Question 5\n",
    "Choose only one of these options to answer for Question 5. There is no preference as to which one you choose. \n",
    "<br>\n",
    "Please select the question that you feel best suits your particular skills and/or expertise. If you answer more \n",
    "<br>\n",
    "than one, only the first will be scored.\n",
    "Option A: Distributions\n",
    "<br>\n",
    "-Build a derived variable representing the average speed over the course of a trip.\n",
    "<br>\n",
    "-Can you perform a test to determine if the average trip speeds are materially the same in all weeks of September? \n",
    "<br>\n",
    "If you decide they are not the same, can you form a hypothesis regarding why they differ?\n",
    "<br>\n",
    "-Can you build up a hypothesis of average trip speed as a function of time of day?"
   ]
  },
  {
   "cell_type": "markdown",
   "metadata": {},
   "source": [
    "I have already created a feature of speed for model building. Here I create a dataframe where speed is within \n",
    "<br>\n",
    "permissible limits"
   ]
  },
  {
   "cell_type": "code",
   "execution_count": 86,
   "metadata": {
    "collapsed": true
   },
   "outputs": [],
   "source": [
    "speed = df_raw[(df_raw['Speed']>=1) & (df_raw['Speed'] <= 70)]"
   ]
  },
  {
   "cell_type": "code",
   "execution_count": 87,
   "metadata": {},
   "outputs": [
    {
     "data": {
      "image/png": "[encoded data removed]",
      "text/plain": [
       "<matplotlib.figure.Figure at 0x23400658630>"
      ]
     },
     "metadata": {},
     "output_type": "display_data"
    }
   ],
   "source": [
    "plt.figure(figsize=(5,3),dpi=100)\n",
    "sns.distplot(speed['Speed'],bins=50,kde=False)\n",
    "plt.ylabel('Count')\n",
    "plt.title('Histogram of Speeds')\n",
    "plt.savefig('Histogram of Speeds')"
   ]
  },
  {
   "cell_type": "markdown",
   "metadata": {},
   "source": [
    "Creating a new column to indicate which week of month it is"
   ]
  },
  {
   "cell_type": "code",
   "execution_count": 88,
   "metadata": {
    "collapsed": true
   },
   "outputs": [],
   "source": [
    "speed['Week'] = speed['Pickup_dt'].apply(lambda x: x.week)"
   ]
  },
  {
   "cell_type": "code",
   "execution_count": 89,
   "metadata": {
    "collapsed": true
   },
   "outputs": [],
   "source": [
    "week ={36:1,37:2,38:3,39:4,40:5,}"
   ]
  },
  {
   "cell_type": "code",
   "execution_count": 90,
   "metadata": {},
   "outputs": [],
   "source": [
    "speed['Week'] = speed['Week'].map(week)"
   ]
  },
  {
   "cell_type": "code",
   "execution_count": 91,
   "metadata": {},
   "outputs": [
    {
     "data": {
      "text/html": [
       "<div>\n",
       "<style>\n",
       "    .dataframe thead tr:only-child th {\n",
       "        text-align: right;\n",
       "    }\n",
       "\n",
       "    .dataframe thead th {\n",
       "        text-align: left;\n",
       "    }\n",
       "\n",
       "    .dataframe tbody tr th {\n",
       "        vertical-align: top;\n",
       "    }\n",
       "</style>\n",
       "<table border=\"1\" class=\"dataframe\">\n",
       "  <thead>\n",
       "    <tr style=\"text-align: right;\">\n",
       "      <th></th>\n",
       "      <th>VendorID</th>\n",
       "      <th>Store_and_fwd_flag</th>\n",
       "      <th>RateCodeID</th>\n",
       "      <th>Pickup_longitude</th>\n",
       "      <th>Pickup_latitude</th>\n",
       "      <th>Dropoff_longitude</th>\n",
       "      <th>Dropoff_latitude</th>\n",
       "      <th>Passenger_count</th>\n",
       "      <th>Trip_distance</th>\n",
       "      <th>Fare_amount</th>\n",
       "      <th>Extra</th>\n",
       "      <th>MTA_tax</th>\n",
       "      <th>Tip_amount</th>\n",
       "      <th>Tolls_amount</th>\n",
       "      <th>improvement_surcharge</th>\n",
       "      <th>Payment_type</th>\n",
       "      <th>Trip_type</th>\n",
       "      <th>Pickup_dt</th>\n",
       "      <th>Dropoff_dt</th>\n",
       "      <th>Pickup_hour</th>\n",
       "      <th>Pickup_day_name</th>\n",
       "      <th>Airport_trips</th>\n",
       "      <th>Trip_duration</th>\n",
       "      <th>Speed</th>\n",
       "      <th>Cal_amount</th>\n",
       "      <th>Tip_percent</th>\n",
       "      <th>Target</th>\n",
       "      <th>Week</th>\n",
       "    </tr>\n",
       "  </thead>\n",
       "  <tbody>\n",
       "    <tr>\n",
       "      <th>2</th>\n",
       "      <td>2.0</td>\n",
       "      <td>N</td>\n",
       "      <td>1.0</td>\n",
       "      <td>-73.921410</td>\n",
       "      <td>40.766708</td>\n",
       "      <td>-73.914413</td>\n",
       "      <td>40.764687</td>\n",
       "      <td>1.0</td>\n",
       "      <td>0.59</td>\n",
       "      <td>4.0</td>\n",
       "      <td>0.5</td>\n",
       "      <td>0.5</td>\n",
       "      <td>0.50</td>\n",
       "      <td>0.0</td>\n",
       "      <td>0.3</td>\n",
       "      <td>1.0</td>\n",
       "      <td>1.0</td>\n",
       "      <td>2015-09-01 00:01:50</td>\n",
       "      <td>2015-09-01 00:04:24</td>\n",
       "      <td>0</td>\n",
       "      <td>Tue</td>\n",
       "      <td>0</td>\n",
       "      <td>0.042778</td>\n",
       "      <td>13.792208</td>\n",
       "      <td>5.80</td>\n",
       "      <td>8.620690</td>\n",
       "      <td>1</td>\n",
       "      <td>1</td>\n",
       "    </tr>\n",
       "    <tr>\n",
       "      <th>3</th>\n",
       "      <td>2.0</td>\n",
       "      <td>N</td>\n",
       "      <td>1.0</td>\n",
       "      <td>-73.921387</td>\n",
       "      <td>40.766678</td>\n",
       "      <td>-73.931427</td>\n",
       "      <td>40.771584</td>\n",
       "      <td>1.0</td>\n",
       "      <td>0.74</td>\n",
       "      <td>5.0</td>\n",
       "      <td>0.5</td>\n",
       "      <td>0.5</td>\n",
       "      <td>0.00</td>\n",
       "      <td>0.0</td>\n",
       "      <td>0.3</td>\n",
       "      <td>2.0</td>\n",
       "      <td>1.0</td>\n",
       "      <td>2015-09-01 00:02:36</td>\n",
       "      <td>2015-09-01 00:06:42</td>\n",
       "      <td>0</td>\n",
       "      <td>Tue</td>\n",
       "      <td>0</td>\n",
       "      <td>0.068333</td>\n",
       "      <td>10.829268</td>\n",
       "      <td>6.30</td>\n",
       "      <td>0.000000</td>\n",
       "      <td>0</td>\n",
       "      <td>1</td>\n",
       "    </tr>\n",
       "    <tr>\n",
       "      <th>4</th>\n",
       "      <td>2.0</td>\n",
       "      <td>N</td>\n",
       "      <td>1.0</td>\n",
       "      <td>-73.955482</td>\n",
       "      <td>40.714046</td>\n",
       "      <td>-73.944412</td>\n",
       "      <td>40.714729</td>\n",
       "      <td>1.0</td>\n",
       "      <td>0.61</td>\n",
       "      <td>5.0</td>\n",
       "      <td>0.5</td>\n",
       "      <td>0.5</td>\n",
       "      <td>0.00</td>\n",
       "      <td>0.0</td>\n",
       "      <td>0.3</td>\n",
       "      <td>2.0</td>\n",
       "      <td>1.0</td>\n",
       "      <td>2015-09-01 00:00:14</td>\n",
       "      <td>2015-09-01 00:04:20</td>\n",
       "      <td>0</td>\n",
       "      <td>Tue</td>\n",
       "      <td>0</td>\n",
       "      <td>0.068333</td>\n",
       "      <td>8.926829</td>\n",
       "      <td>6.30</td>\n",
       "      <td>0.000000</td>\n",
       "      <td>0</td>\n",
       "      <td>1</td>\n",
       "    </tr>\n",
       "    <tr>\n",
       "      <th>5</th>\n",
       "      <td>2.0</td>\n",
       "      <td>N</td>\n",
       "      <td>1.0</td>\n",
       "      <td>-73.945297</td>\n",
       "      <td>40.808186</td>\n",
       "      <td>-73.937668</td>\n",
       "      <td>40.821198</td>\n",
       "      <td>1.0</td>\n",
       "      <td>1.07</td>\n",
       "      <td>5.5</td>\n",
       "      <td>0.5</td>\n",
       "      <td>0.5</td>\n",
       "      <td>1.36</td>\n",
       "      <td>0.0</td>\n",
       "      <td>0.3</td>\n",
       "      <td>1.0</td>\n",
       "      <td>1.0</td>\n",
       "      <td>2015-09-01 00:00:39</td>\n",
       "      <td>2015-09-01 00:05:20</td>\n",
       "      <td>0</td>\n",
       "      <td>Tue</td>\n",
       "      <td>0</td>\n",
       "      <td>0.078056</td>\n",
       "      <td>13.708185</td>\n",
       "      <td>8.16</td>\n",
       "      <td>16.666667</td>\n",
       "      <td>1</td>\n",
       "      <td>1</td>\n",
       "    </tr>\n",
       "    <tr>\n",
       "      <th>6</th>\n",
       "      <td>2.0</td>\n",
       "      <td>N</td>\n",
       "      <td>1.0</td>\n",
       "      <td>-73.890877</td>\n",
       "      <td>40.746426</td>\n",
       "      <td>-73.876923</td>\n",
       "      <td>40.756306</td>\n",
       "      <td>1.0</td>\n",
       "      <td>1.43</td>\n",
       "      <td>6.5</td>\n",
       "      <td>0.5</td>\n",
       "      <td>0.5</td>\n",
       "      <td>0.00</td>\n",
       "      <td>0.0</td>\n",
       "      <td>0.3</td>\n",
       "      <td>1.0</td>\n",
       "      <td>1.0</td>\n",
       "      <td>2015-09-01 00:00:52</td>\n",
       "      <td>2015-09-01 00:05:50</td>\n",
       "      <td>0</td>\n",
       "      <td>Tue</td>\n",
       "      <td>0</td>\n",
       "      <td>0.082778</td>\n",
       "      <td>17.275168</td>\n",
       "      <td>7.80</td>\n",
       "      <td>0.000000</td>\n",
       "      <td>0</td>\n",
       "      <td>1</td>\n",
       "    </tr>\n",
       "  </tbody>\n",
       "</table>\n",
       "</div>"
      ],
      "text/plain": [
       "   VendorID Store_and_fwd_flag  RateCodeID  Pickup_longitude  Pickup_latitude  \\\n",
       "2       2.0                  N         1.0        -73.921410        40.766708   \n",
       "3       2.0                  N         1.0        -73.921387        40.766678   \n",
       "4       2.0                  N         1.0        -73.955482        40.714046   \n",
       "5       2.0                  N         1.0        -73.945297        40.808186   \n",
       "6       2.0                  N         1.0        -73.890877        40.746426   \n",
       "\n",
       "   Dropoff_longitude  Dropoff_latitude  Passenger_count  Trip_distance  \\\n",
       "2         -73.914413         40.764687              1.0           0.59   \n",
       "3         -73.931427         40.771584              1.0           0.74   \n",
       "4         -73.944412         40.714729              1.0           0.61   \n",
       "5         -73.937668         40.821198              1.0           1.07   \n",
       "6         -73.876923         40.756306              1.0           1.43   \n",
       "\n",
       "   Fare_amount  Extra  MTA_tax  Tip_amount  Tolls_amount  \\\n",
       "2          4.0    0.5      0.5        0.50           0.0   \n",
       "3          5.0    0.5      0.5        0.00           0.0   \n",
       "4          5.0    0.5      0.5        0.00           0.0   \n",
       "5          5.5    0.5      0.5        1.36           0.0   \n",
       "6          6.5    0.5      0.5        0.00           0.0   \n",
       "\n",
       "   improvement_surcharge  Payment_type  Trip_type            Pickup_dt  \\\n",
       "2                    0.3           1.0         1.0 2015-09-01 00:01:50   \n",
       "3                    0.3           2.0         1.0 2015-09-01 00:02:36   \n",
       "4                    0.3           2.0         1.0 2015-09-01 00:00:14   \n",
       "5                    0.3           1.0         1.0 2015-09-01 00:00:39   \n",
       "6                    0.3           1.0         1.0 2015-09-01 00:00:52   \n",
       "\n",
       "           Dropoff_dt  Pickup_hour Pickup_day_name  Airport_trips  \\\n",
       "2 2015-09-01 00:04:24            0             Tue              0   \n",
       "3 2015-09-01 00:06:42            0             Tue              0   \n",
       "4 2015-09-01 00:04:20            0             Tue              0   \n",
       "5 2015-09-01 00:05:20            0             Tue              0   \n",
       "6 2015-09-01 00:05:50            0             Tue              0   \n",
       "\n",
       "   Trip_duration      Speed  Cal_amount  Tip_percent  Target  Week  \n",
       "2       0.042778  13.792208        5.80     8.620690       1     1  \n",
       "3       0.068333  10.829268        6.30     0.000000       0     1  \n",
       "4       0.068333   8.926829        6.30     0.000000       0     1  \n",
       "5       0.078056  13.708185        8.16    16.666667       1     1  \n",
       "6       0.082778  17.275168        7.80     0.000000       0     1  "
      ]
     },
     "execution_count": 91,
     "metadata": {},
     "output_type": "execute_result"
    }
   ],
   "source": [
    "speed.head()"
   ]
  },
  {
   "cell_type": "code",
   "execution_count": 92,
   "metadata": {},
   "outputs": [],
   "source": [
    "f = speed.groupby('Week')"
   ]
  },
  {
   "cell_type": "code",
   "execution_count": 93,
   "metadata": {},
   "outputs": [],
   "source": [
    "xaxis = [1,2,3,4,5]\n",
    "avgspd = f['Speed'].mean()"
   ]
  },
  {
   "cell_type": "code",
   "execution_count": 94,
   "metadata": {},
   "outputs": [
    {
     "data": {
      "text/plain": [
       "Week\n",
       "1    13.179632\n",
       "2    12.565661\n",
       "3    12.566875\n",
       "4    13.046631\n",
       "5    12.372110\n",
       "Name: Speed, dtype: float64"
      ]
     },
     "execution_count": 94,
     "metadata": {},
     "output_type": "execute_result"
    }
   ],
   "source": [
    "f['Speed'].mean()"
   ]
  },
  {
   "cell_type": "code",
   "execution_count": 95,
   "metadata": {},
   "outputs": [
    {
     "data": {
      "image/png": "[encoded data removed]",
      "text/plain": [
       "<matplotlib.figure.Figure at 0x2340024aa58>"
      ]
     },
     "metadata": {},
     "output_type": "display_data"
    }
   ],
   "source": [
    "plt.figure(figsize=(5,3),dpi=100)\n",
    "plt.bar(xaxis,avgspd)\n",
    "plt.xlabel('Week of Month')\n",
    "plt.ylabel('Average Speed')\n",
    "plt.title('Avg speed vs Week')\n",
    "plt.grid(axis='y')\n",
    "plt.savefig('Avg speed vs Week')"
   ]
  },
  {
   "cell_type": "code",
   "execution_count": 96,
   "metadata": {
    "collapsed": true
   },
   "outputs": [],
   "source": [
    "week_1 = speed['Speed'][speed['Week']==1].as_matrix()\n",
    "week_2 = speed['Speed'][speed['Week']==2].as_matrix()\n",
    "week_3 = speed['Speed'][speed['Week']==3].as_matrix()\n",
    "week_4 = speed['Speed'][speed['Week']==4].as_matrix()\n",
    "week_5 = speed['Speed'][speed['Week']==5].as_matrix()"
   ]
  },
  {
   "cell_type": "code",
   "execution_count": null,
   "metadata": {},
   "outputs": [],
   "source": []
  },
  {
   "cell_type": "code",
   "execution_count": 97,
   "metadata": {},
   "outputs": [
    {
     "data": {
      "image/png": "[encoded data removed]",
      "text/plain": [
       "<matplotlib.figure.Figure at 0x2340e94a710>"
      ]
     },
     "metadata": {},
     "output_type": "display_data"
    },
    {
     "data": {
      "text/plain": [
       "<function matplotlib.pyplot.tight_layout>"
      ]
     },
     "execution_count": 97,
     "metadata": {},
     "output_type": "execute_result"
    }
   ],
   "source": [
    "plt.figure(figsize=(15,9),dpi=100)\n",
    "plt.subplot(3,2,1)\n",
    "plt.hist(week_1,bins = 50,label = 'week 1')\n",
    "plt.legend()\n",
    "plt.title('Week 1')\n",
    "plt.subplot(3,2,2)\n",
    "plt.hist(week_2,bins = 50,label = 'week 2')\n",
    "plt.legend()\n",
    "plt.title('Week 2')\n",
    "plt.subplot(3,2,3)\n",
    "plt.hist(week_3,bins = 50,label = 'week 3')\n",
    "plt.legend()\n",
    "plt.title('Week 3')\n",
    "plt.subplot(3,2,4)\n",
    "plt.hist(week_4,bins = 50,label = 'week 4')\n",
    "plt.legend()\n",
    "plt.title('Week 4')\n",
    "plt.subplot(3,2,5)\n",
    "plt.hist(week_5,bins = 50,label = 'week 5')\n",
    "plt.legend()\n",
    "plt.title('Week 5')\n",
    "plt.savefig('All weeks distance')\n",
    "plt.show()\n",
    "plt.tight_layout\n"
   ]
  },
  {
   "cell_type": "code",
   "execution_count": 98,
   "metadata": {},
   "outputs": [
    {
     "data": {
      "text/plain": [
       "F_onewayResult(statistic=1002.9721898951893, pvalue=0.0)"
      ]
     },
     "execution_count": 98,
     "metadata": {},
     "output_type": "execute_result"
    }
   ],
   "source": [
    "stats.f_oneway(week_1,week_2, week_3,week_4, week_5)"
   ]
  },
  {
   "cell_type": "markdown",
   "metadata": {},
   "source": [
    "The ANOVA test indicates a large f-value and a small p-value, therefore we reject the null hypothesis and we \n",
    "<br>\n",
    "conclude that the differences between the groups are statistically significant which implies that the week of the \n",
    "<br>\n",
    "month does seem to be related to the average speed. We further compute the mean, median and histogram for these \n",
    "<br>\n",
    "groups to support our claims"
   ]
  },
  {
   "cell_type": "code",
   "execution_count": null,
   "metadata": {
    "scrolled": true
   },
   "outputs": [],
   "source": []
  },
  {
   "cell_type": "code",
   "execution_count": 99,
   "metadata": {
    "collapsed": true
   },
   "outputs": [],
   "source": [
    "group_byhour = speed.groupby('Pickup_hour')\n",
    "samples = []\n",
    "\n",
    "for name,group in group_byhour:\n",
    "    samples.append(group['Speed']) "
   ]
  },
  {
   "cell_type": "code",
   "execution_count": 100,
   "metadata": {},
   "outputs": [
    {
     "data": {
      "text/plain": [
       "F_onewayResult(statistic=5401.881835007106, pvalue=0.0)"
      ]
     },
     "execution_count": 100,
     "metadata": {},
     "output_type": "execute_result"
    }
   ],
   "source": [
    "stats.f_oneway(samples[0],samples[1],samples[2],samples[3], samples[4],samples[5],samples[6],samples[7],\n",
    "               samples[8],samples[9],samples[10],samples[11],samples[12],samples[13],samples[14],samples[15],\n",
    "               samples[16],samples[17],samples[18],samples[19],samples[20],samples[21],samples[22],samples[23])"
   ]
  },
  {
   "cell_type": "markdown",
   "metadata": {},
   "source": [
    "The ANOVA test for sets partitioned as per the hour of the journey also gives a high f-value and p-value of 0, \n",
    "<br>\n",
    "implying that there are statistifically significant differences in the data sets considered."
   ]
  },
  {
   "cell_type": "markdown",
   "metadata": {},
   "source": [
    "Creating a pivot table to store average speed per hour of day for each week"
   ]
  },
  {
   "cell_type": "code",
   "execution_count": 101,
   "metadata": {},
   "outputs": [],
   "source": [
    "tb4 = speed.pivot_table(index='Pickup_hour',columns='Week',values='Speed')"
   ]
  },
  {
   "cell_type": "code",
   "execution_count": 102,
   "metadata": {},
   "outputs": [],
   "source": [
    "tb4.columns=[1,2,3,4,5]"
   ]
  },
  {
   "cell_type": "code",
   "execution_count": 103,
   "metadata": {},
   "outputs": [],
   "source": [
    "tb4 = tb4.reset_index()"
   ]
  },
  {
   "cell_type": "code",
   "execution_count": 104,
   "metadata": {},
   "outputs": [
    {
     "data": {
      "text/html": [
       "<div>\n",
       "<style>\n",
       "    .dataframe thead tr:only-child th {\n",
       "        text-align: right;\n",
       "    }\n",
       "\n",
       "    .dataframe thead th {\n",
       "        text-align: left;\n",
       "    }\n",
       "\n",
       "    .dataframe tbody tr th {\n",
       "        vertical-align: top;\n",
       "    }\n",
       "</style>\n",
       "<table border=\"1\" class=\"dataframe\">\n",
       "  <thead>\n",
       "    <tr style=\"text-align: right;\">\n",
       "      <th></th>\n",
       "      <th>Pickup_hour</th>\n",
       "      <th>1</th>\n",
       "      <th>2</th>\n",
       "      <th>3</th>\n",
       "      <th>4</th>\n",
       "      <th>5</th>\n",
       "    </tr>\n",
       "  </thead>\n",
       "  <tbody>\n",
       "    <tr>\n",
       "      <th>0</th>\n",
       "      <td>0</td>\n",
       "      <td>14.673254</td>\n",
       "      <td>14.612639</td>\n",
       "      <td>14.039916</td>\n",
       "      <td>14.325455</td>\n",
       "      <td>15.332018</td>\n",
       "    </tr>\n",
       "    <tr>\n",
       "      <th>1</th>\n",
       "      <td>1</td>\n",
       "      <td>14.775520</td>\n",
       "      <td>14.715247</td>\n",
       "      <td>14.447156</td>\n",
       "      <td>14.781841</td>\n",
       "      <td>15.354056</td>\n",
       "    </tr>\n",
       "    <tr>\n",
       "      <th>2</th>\n",
       "      <td>2</td>\n",
       "      <td>15.125648</td>\n",
       "      <td>14.859193</td>\n",
       "      <td>14.698676</td>\n",
       "      <td>15.084403</td>\n",
       "      <td>15.282465</td>\n",
       "    </tr>\n",
       "    <tr>\n",
       "      <th>3</th>\n",
       "      <td>3</td>\n",
       "      <td>15.479006</td>\n",
       "      <td>15.341889</td>\n",
       "      <td>15.251808</td>\n",
       "      <td>15.418755</td>\n",
       "      <td>15.622608</td>\n",
       "    </tr>\n",
       "    <tr>\n",
       "      <th>4</th>\n",
       "      <td>4</td>\n",
       "      <td>16.049398</td>\n",
       "      <td>16.089034</td>\n",
       "      <td>15.995391</td>\n",
       "      <td>16.162654</td>\n",
       "      <td>17.631721</td>\n",
       "    </tr>\n",
       "  </tbody>\n",
       "</table>\n",
       "</div>"
      ],
      "text/plain": [
       "   Pickup_hour          1          2          3          4          5\n",
       "0            0  14.673254  14.612639  14.039916  14.325455  15.332018\n",
       "1            1  14.775520  14.715247  14.447156  14.781841  15.354056\n",
       "2            2  15.125648  14.859193  14.698676  15.084403  15.282465\n",
       "3            3  15.479006  15.341889  15.251808  15.418755  15.622608\n",
       "4            4  16.049398  16.089034  15.995391  16.162654  17.631721"
      ]
     },
     "execution_count": 104,
     "metadata": {},
     "output_type": "execute_result"
    }
   ],
   "source": [
    "tb4.head()"
   ]
  },
  {
   "cell_type": "code",
   "execution_count": 105,
   "metadata": {},
   "outputs": [
    {
     "name": "stderr",
     "output_type": "stream",
     "text": [
      "E:\\Python\\lib\\site-packages\\matplotlib\\axes\\_axes.py:545: UserWarning: No labelled objects found. Use label='...' kwarg on individual plots.\n",
      "  warnings.warn(\"No labelled objects found. \"\n"
     ]
    },
    {
     "data": {
      "image/png": "[encoded data removed]",
      "text/plain": [
       "<matplotlib.figure.Figure at 0x234004df630>"
      ]
     },
     "metadata": {},
     "output_type": "display_data"
    }
   ],
   "source": [
    "plt.figure(figsize=(15,9),dpi=100)\n",
    "plt.grid(which='y')\n",
    "plt.subplot(3,2,1)\n",
    "sns.barplot(x='Pickup_hour',y=1,data=tb4)\n",
    "plt.title('Average Speed depending on time of day for Week 1')\n",
    "plt.legend()\n",
    "plt.subplot(3,2,2)\n",
    "sns.barplot(x='Pickup_hour',y=2,data=tb4)\n",
    "plt.title('Average Speed depending on time of day for Week 2')\n",
    "plt.subplot(3,2,3)\n",
    "sns.barplot(x='Pickup_hour',y=3,data=tb4)\n",
    "plt.title('Average Speed depending on time of day for Week 3')\n",
    "plt.subplot(3,2,4)\n",
    "sns.barplot(x='Pickup_hour',y=4,data=tb4)\n",
    "plt.title('Average Speed depending on time of day for Week 4')\n",
    "plt.subplot(3,2,5)\n",
    "sns.barplot(x='Pickup_hour',y=5,data=tb4)\n",
    "plt.title('Average Speed depending on time of day for Week 5')\n",
    "plt.savefig('Avg speed per hour for each week')\n",
    "plt.tight_layout()\n"
   ]
  },
  {
   "cell_type": "markdown",
   "metadata": {},
   "source": [
    "This figure makes a lot of sense. As followed by logical thinking average speed at night is more as compared to \n",
    "<br>\n",
    "daytime. This makes sense as during night there is less traffic and fewer people on road. we see a spike in average \n",
    "<br>\n",
    "speed during 4-5 am in the morning and it falls drastically as people get up and get going with their routine. As \n",
    "<br>\n",
    "expected the average speed is lowest in the morning between 8-10 am when people are going to work.  "
   ]
  },
  {
   "cell_type": "markdown",
   "metadata": {},
   "source": [
    "# Thank You"
   ]
  },
  {
   "cell_type": "code",
   "execution_count": null,
   "metadata": {
    "collapsed": true
   },
   "outputs": [],
   "source": []
  }
 ],
 "metadata": {
  "kernelspec": {
   "display_name": "Python 3",
   "language": "python",
   "name": "python3"
  },
  "language_info": {
   "codemirror_mode": {
    "name": "ipython",
    "version": 3
   },
   "file_extension": ".py",
   "mimetype": "text/x-python",
   "name": "python",
   "nbconvert_exporter": "python",
   "pygments_lexer": "ipython3",
   "version": "3.6.2"
  }
 },
 "nbformat": 4,
 "nbformat_minor": 2
}
